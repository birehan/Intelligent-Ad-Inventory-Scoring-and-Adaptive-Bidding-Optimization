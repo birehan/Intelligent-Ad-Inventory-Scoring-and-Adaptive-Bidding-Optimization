{
 "cells": [
  {
   "cell_type": "markdown",
   "metadata": {},
   "source": [
    "### Pre process and merge the data"
   ]
  },
  {
   "cell_type": "markdown",
   "metadata": {},
   "source": [
    "#### Import packages"
   ]
  },
  {
   "cell_type": "code",
   "execution_count": 29,
   "metadata": {},
   "outputs": [],
   "source": [
    "import pandas as pd\n",
    "import numpy as np"
   ]
  },
  {
   "cell_type": "markdown",
   "metadata": {},
   "source": [
    "#### Load the datasets"
   ]
  },
  {
   "cell_type": "code",
   "execution_count": 2,
   "metadata": {},
   "outputs": [],
   "source": [
    "campaign_df = pd.read_csv(\"../data/campaign_data.csv\")\n",
    "creative_df = pd.read_csv(\"../data/creative_data.csv\")\n",
    "inventory_df = pd.read_csv(\"../data/Inventory_data.csv\")"
   ]
  },
  {
   "cell_type": "markdown",
   "metadata": {},
   "source": [
    "##### Fix inconsistency namings"
   ]
  },
  {
   "cell_type": "code",
   "execution_count": 4,
   "metadata": {},
   "outputs": [],
   "source": [
    "campaign_df.rename(columns={'campaignid': 'campaign_id'}, inplace=True)"
   ]
  },
  {
   "cell_type": "markdown",
   "metadata": {},
   "source": [
    "#### Remove rows that have a campaign but no inventory"
   ]
  },
  {
   "cell_type": "code",
   "execution_count": 5,
   "metadata": {},
   "outputs": [],
   "source": [
    "# Get campaign_ids that were removed\n",
    "removed_campaign_ids = campaign_df[~campaign_df['campaign_id'].isin(inventory_df['campaign_id'])]['campaign_id']\n",
    "\n",
    "# Filter out rows where campaign_id exists in campaign_df but not in inventory_df\n",
    "removed_rows = campaign_df[campaign_df['campaign_id'].isin(removed_campaign_ids)]"
   ]
  },
  {
   "cell_type": "code",
   "execution_count": 6,
   "metadata": {},
   "outputs": [
    {
     "data": {
      "text/plain": [
       "9     5pk0f4n\n",
       "12    2la80vo\n",
       "15    82k2wx4\n",
       "25    xplk7p6\n",
       "40    1p1ksf7\n",
       "44    ifdayp2\n",
       "74    ejj5vbv\n",
       "79    377r1eu\n",
       "Name: campaign_id, dtype: object"
      ]
     },
     "execution_count": 6,
     "metadata": {},
     "output_type": "execute_result"
    }
   ],
   "source": [
    "removed_rows['campaign_id']"
   ]
  },
  {
   "cell_type": "code",
   "execution_count": 7,
   "metadata": {},
   "outputs": [],
   "source": [
    "# Get campaign_ids that were removed\n",
    "removed_campaign_ids = campaign_df[~campaign_df['campaign_id'].isin(inventory_df['campaign_id'])]['campaign_id']\n",
    "\n",
    "# Filter out rows where campaign_id exists in campaign_df but not in creative df\n",
    "removed_rows = campaign_df[campaign_df['campaign_id'].isin(removed_campaign_ids)]"
   ]
  },
  {
   "cell_type": "code",
   "execution_count": 8,
   "metadata": {},
   "outputs": [
    {
     "data": {
      "text/plain": [
       "9     5pk0f4n\n",
       "12    2la80vo\n",
       "15    82k2wx4\n",
       "25    xplk7p6\n",
       "40    1p1ksf7\n",
       "44    ifdayp2\n",
       "74    ejj5vbv\n",
       "79    377r1eu\n",
       "Name: campaign_id, dtype: object"
      ]
     },
     "execution_count": 8,
     "metadata": {},
     "output_type": "execute_result"
    }
   ],
   "source": [
    "removed_rows['campaign_id']"
   ]
  },
  {
   "cell_type": "code",
   "execution_count": 9,
   "metadata": {},
   "outputs": [],
   "source": [
    "removed_rows.to_csv(\"../data/campaign_with_no_inventory.csv\")"
   ]
  },
  {
   "cell_type": "markdown",
   "metadata": {},
   "source": [
    "##### Merge the 3 dataframes based on campaign_ig and game_key"
   ]
  },
  {
   "cell_type": "code",
   "execution_count": 10,
   "metadata": {},
   "outputs": [
    {
     "name": "stdout",
     "output_type": "stream",
     "text": [
      "  campaign_id  budget_amount budget_currencycode         KPI pricing_model  \\\n",
      "0     f4p5a01         277.12                 USD  Engagement           CPE   \n",
      "1     f4p5a01         277.12                 USD  Engagement           CPE   \n",
      "2     f4p5a01         277.12                 USD  Engagement           CPE   \n",
      "3     f4p5a01         277.12                 USD  Engagement           CPE   \n",
      "4     f4p5a01         277.12                 USD  Engagement           CPE   \n",
      "\n",
      "  geo_targeting vertical                                          targeting  \\\n",
      "0           NaN   Sports  Opinion Leaders| Investors| Policy Makers| C&I...   \n",
      "1           NaN   Sports  Opinion Leaders| Investors| Policy Makers| C&I...   \n",
      "2           NaN   Sports  Opinion Leaders| Investors| Policy Makers| C&I...   \n",
      "3           NaN   Sports  Opinion Leaders| Investors| Policy Makers| C&I...   \n",
      "4           NaN   Sports  Opinion Leaders| Investors| Policy Makers| C&I...   \n",
      "\n",
      "                                            game_key adformat  ...  \\\n",
      "0  b4f31c796c130fd594d253ba9336a01d/7ae9931edb2ed...  320x480  ...   \n",
      "1  b4f31c796c130fd594d253ba9336a01d/7ae9931edb2ed...  320x480  ...   \n",
      "2  b4f31c796c130fd594d253ba9336a01d/7ae9931edb2ed...  320x480  ...   \n",
      "3  b4f31c796c130fd594d253ba9336a01d/7ae9931edb2ed...  320x480  ...   \n",
      "4  b4f31c796c130fd594d253ba9336a01d/7ae9931edb2ed...  320x480  ...   \n",
      "\n",
      "     renderingcontext osfamily  devicetype  devicemake  \\\n",
      "0  MobileOptimizedWeb      6.0         3.0     Samsung   \n",
      "1  MobileOptimizedWeb      5.0         4.0       Apple   \n",
      "2  MobileOptimizedWeb      6.0         4.0     Samsung   \n",
      "3  MobileOptimizedWeb      5.0         4.0       Apple   \n",
      "4  MobileOptimizedWeb      6.0         4.0     Samsung   \n",
      "\n",
      "                 site_name matchedfoldposition                     browser  \\\n",
      "0            www.yahoo.com                 4.0                      Chrome   \n",
      "1            www.yahoo.com                 4.0               Mobile Safari   \n",
      "2            www.yahoo.com                 4.0                      Chrome   \n",
      "3          www.the-sun.com                 4.0  Mobile Safari UI/WKWebView   \n",
      "4  currently.att.yahoo.com                 4.0               Chrome Mobile   \n",
      "\n",
      "  impression  engagement  click  \n",
      "0       57.0         0.0    0.0  \n",
      "1      983.0       265.0   71.0  \n",
      "2        9.0         0.0    0.0  \n",
      "3        3.0         0.0    0.0  \n",
      "4       27.0         3.0    0.0  \n",
      "\n",
      "[5 rows x 21 columns]\n"
     ]
    }
   ],
   "source": [
    "import pandas as pd\n",
    "\n",
    "# Merge the dataframes based on common columns\n",
    "merged_df = pd.merge(campaign_df, creative_df, on='campaign_id', how='left')\n",
    "merged_df = pd.merge(merged_df, inventory_df, on=['campaign_id', 'game_key'], how='left')\n",
    "\n",
    "# Print the merged dataframe\n",
    "print(merged_df.head())"
   ]
  },
  {
   "cell_type": "code",
   "execution_count": 11,
   "metadata": {},
   "outputs": [
    {
     "data": {
      "text/plain": [
       "Index(['campaign_id', 'budget_amount', 'budget_currencycode', 'KPI',\n",
       "       'pricing_model', 'geo_targeting', 'vertical', 'targeting', 'game_key',\n",
       "       'adformat', 'creative', 'renderingcontext', 'osfamily', 'devicetype',\n",
       "       'devicemake', 'site_name', 'matchedfoldposition', 'browser',\n",
       "       'impression', 'engagement', 'click'],\n",
       "      dtype='object')"
      ]
     },
     "execution_count": 11,
     "metadata": {},
     "output_type": "execute_result"
    }
   ],
   "source": [
    "merged_df.columns"
   ]
  },
  {
   "cell_type": "code",
   "execution_count": 12,
   "metadata": {},
   "outputs": [
    {
     "data": {
      "text/plain": [
       "2975312"
      ]
     },
     "execution_count": 12,
     "metadata": {},
     "output_type": "execute_result"
    }
   ],
   "source": [
    "len(merged_df)"
   ]
  },
  {
   "cell_type": "code",
   "execution_count": 13,
   "metadata": {},
   "outputs": [],
   "source": [
    "# Filter out rows where campaign_id exists in campaign_df but not in inventory_df\n",
    "merged_df = merged_df[~merged_df['campaign_id'].isin(campaign_df[~campaign_df['campaign_id'].isin(inventory_df['campaign_id'])]['campaign_id'])]"
   ]
  },
  {
   "cell_type": "code",
   "execution_count": 14,
   "metadata": {},
   "outputs": [
    {
     "data": {
      "text/plain": [
       "2975304"
      ]
     },
     "execution_count": 14,
     "metadata": {},
     "output_type": "execute_result"
    }
   ],
   "source": [
    "len(merged_df)"
   ]
  },
  {
   "cell_type": "code",
   "execution_count": 15,
   "metadata": {},
   "outputs": [
    {
     "data": {
      "text/plain": [
       "Index(['campaign_id', 'budget_amount', 'budget_currencycode', 'KPI',\n",
       "       'pricing_model', 'geo_targeting', 'vertical', 'targeting', 'game_key',\n",
       "       'adformat', 'creative', 'renderingcontext', 'osfamily', 'devicetype',\n",
       "       'devicemake', 'site_name', 'matchedfoldposition', 'browser',\n",
       "       'impression', 'engagement', 'click'],\n",
       "      dtype='object')"
      ]
     },
     "execution_count": 15,
     "metadata": {},
     "output_type": "execute_result"
    }
   ],
   "source": [
    "merged_df.columns"
   ]
  },
  {
   "cell_type": "markdown",
   "metadata": {},
   "source": [
    "#### Compute click through rate and engagement rate"
   ]
  },
  {
   "cell_type": "code",
   "execution_count": 24,
   "metadata": {},
   "outputs": [],
   "source": [
    "\n",
    "# Calculate CTR (Click-Through Rate)\n",
    "merged_df['CTR'] = np.where(merged_df['impression'] != 0,\n",
    "                            (merged_df['click'] / merged_df['impression']) * 100,\n",
    "                            0)\n",
    "\n",
    "# Calculate ER (Engagement Rate)\n",
    "merged_df['ER'] = np.where(merged_df['impression'] != 0,\n",
    "                           (merged_df['engagement'] / merged_df['impression']) * 100,\n",
    "                           0)"
   ]
  },
  {
   "cell_type": "markdown",
   "metadata": {},
   "source": [
    "#### Mapping of number to value for 3 colums"
   ]
  },
  {
   "cell_type": "code",
   "execution_count": 30,
   "metadata": {},
   "outputs": [],
   "source": [
    "# Mapping dictionary for osfamily\n",
    "os_family_mapping = {\n",
    "    1: 'Other',\n",
    "    2: 'Windows',\n",
    "    3: 'OS X',\n",
    "    4: 'Linux',\n",
    "    5: 'iOS',\n",
    "    6: 'Android',\n",
    "    7: 'Windows Phone'\n",
    "}\n",
    "\n",
    "# Map numerical values to categories\n",
    "merged_df['osfamily'] = merged_df['osfamily'].map(os_family_mapping)"
   ]
  },
  {
   "cell_type": "code",
   "execution_count": 31,
   "metadata": {},
   "outputs": [],
   "source": [
    "# Mapping dictionary for devicetype\n",
    "device_type_mapping = {\n",
    "    1: 'Other',\n",
    "    2: 'PC',\n",
    "    3: 'Tablet',\n",
    "    4: 'Mobile',\n",
    "    5: 'Roku',\n",
    "    6: 'ConnectedTV',\n",
    "    7: 'OutOfHome',\n",
    "    8: 'HomeAssistant'\n",
    "}\n",
    "\n",
    "# Map numerical values to categories\n",
    "merged_df['devicetype'] = merged_df['devicetype'].map(device_type_mapping)"
   ]
  },
  {
   "cell_type": "code",
   "execution_count": 32,
   "metadata": {},
   "outputs": [],
   "source": [
    "# Mapping dictionary for fold position\n",
    "foldposition_mapping = {\n",
    "    1: 'Any',\n",
    "    2: 'Above',\n",
    "    3: 'Below',\n",
    "    4: 'Unknown'\n",
    "}\n",
    "\n",
    "# Map numerical values to categories\n",
    "merged_df['matchedfoldposition'] = merged_df['matchedfoldposition'].map(foldposition_mapping)"
   ]
  },
  {
   "cell_type": "markdown",
   "metadata": {},
   "source": [
    "#### Handle missing values"
   ]
  },
  {
   "cell_type": "code",
   "execution_count": 33,
   "metadata": {},
   "outputs": [
    {
     "name": "stdout",
     "output_type": "stream",
     "text": [
      "campaign_id             0.000000\n",
      "budget_amount           0.000000\n",
      "budget_currencycode     0.000000\n",
      "KPI                     0.000000\n",
      "pricing_model           0.000000\n",
      "geo_targeting          91.161239\n",
      "vertical                0.000000\n",
      "targeting              81.240472\n",
      "game_key                0.000000\n",
      "adformat                0.000000\n",
      "creative                2.900846\n",
      "renderingcontext        0.000000\n",
      "osfamily                0.003899\n",
      "devicetype              0.000101\n",
      "devicemake              1.916644\n",
      "site_name               0.000000\n",
      "matchedfoldposition     0.000067\n",
      "browser                 0.091890\n",
      "impression              0.000000\n",
      "engagement              0.000000\n",
      "click                   0.000000\n",
      "CTR                     0.000000\n",
      "ER                      0.000000\n",
      "dtype: float64\n"
     ]
    }
   ],
   "source": [
    "# Calculate the percentage of missing values in each column\n",
    "missing_percentage = merged_df.isnull().sum() / len(merged_df) * 100\n",
    "\n",
    "# Print the percentage of missing values for each column\n",
    "print(missing_percentage)"
   ]
  },
  {
   "cell_type": "code",
   "execution_count": 34,
   "metadata": {},
   "outputs": [],
   "source": [
    "merged_df['geo_targeting'].fillna(value=\"All Country\", inplace=True)\n",
    "merged_df['targeting'].fillna(value=\"All\", inplace=True)\n",
    "merged_df['creative'].fillna(value=\"Unknown\", inplace=True)\n",
    "merged_df['browser'].fillna(value=merged_df['browser'].mode()[0], inplace=True)\n",
    "merged_df['devicemake'].fillna(value=merged_df['devicemake'].mode()[0], inplace=True)\n",
    "merged_df['devicetype'].fillna(value=merged_df['devicetype'].mode()[0], inplace=True)\n",
    "merged_df['matchedfoldposition'].fillna(value=merged_df['matchedfoldposition'].mode()[0], inplace=True)\n",
    "merged_df['osfamily'].fillna(value=merged_df['osfamily'].mode()[0], inplace=True)"
   ]
  },
  {
   "cell_type": "code",
   "execution_count": 35,
   "metadata": {},
   "outputs": [
    {
     "name": "stdout",
     "output_type": "stream",
     "text": [
      "campaign_id            0.0\n",
      "budget_amount          0.0\n",
      "budget_currencycode    0.0\n",
      "KPI                    0.0\n",
      "pricing_model          0.0\n",
      "geo_targeting          0.0\n",
      "vertical               0.0\n",
      "targeting              0.0\n",
      "game_key               0.0\n",
      "adformat               0.0\n",
      "creative               0.0\n",
      "renderingcontext       0.0\n",
      "osfamily               0.0\n",
      "devicetype             0.0\n",
      "devicemake             0.0\n",
      "site_name              0.0\n",
      "matchedfoldposition    0.0\n",
      "browser                0.0\n",
      "impression             0.0\n",
      "engagement             0.0\n",
      "click                  0.0\n",
      "CTR                    0.0\n",
      "ER                     0.0\n",
      "dtype: float64\n"
     ]
    }
   ],
   "source": [
    "# Calculate the percentage of missing values in each column\n",
    "missing_percentage = merged_df.isna().sum() / len(merged_df) * 100\n",
    "\n",
    "# Print the percentage of missing values for each column\n",
    "print(missing_percentage)"
   ]
  },
  {
   "cell_type": "markdown",
   "metadata": {},
   "source": [
    "#### Save the merged dta"
   ]
  },
  {
   "cell_type": "code",
   "execution_count": 29,
   "metadata": {},
   "outputs": [],
   "source": [
    "merged_df.to_csv(\"../data/merged_data.csv\")"
   ]
  }
 ],
 "metadata": {
  "kernelspec": {
   "display_name": "week10",
   "language": "python",
   "name": "python3"
  },
  "language_info": {
   "codemirror_mode": {
    "name": "ipython",
    "version": 3
   },
   "file_extension": ".py",
   "mimetype": "text/x-python",
   "name": "python",
   "nbconvert_exporter": "python",
   "pygments_lexer": "ipython3",
   "version": "3.8.2"
  }
 },
 "nbformat": 4,
 "nbformat_minor": 2
}
