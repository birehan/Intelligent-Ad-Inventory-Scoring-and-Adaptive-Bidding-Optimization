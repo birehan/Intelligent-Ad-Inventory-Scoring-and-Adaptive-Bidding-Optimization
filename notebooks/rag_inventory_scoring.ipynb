{
 "cells": [
  {
   "cell_type": "markdown",
   "metadata": {},
   "source": [
    "###  Retrieval-Augmented Generation (RAG) for Inventory Scoring"
   ]
  },
  {
   "cell_type": "markdown",
   "metadata": {},
   "source": [
    "#### Import Packages"
   ]
  },
  {
   "cell_type": "code",
   "execution_count": 1,
   "metadata": {},
   "outputs": [],
   "source": [
    "import os\n",
    "import sys\n",
    "sys.path.append(os.path.abspath(os.path.join('..')))"
   ]
  },
  {
   "cell_type": "code",
   "execution_count": 2,
   "metadata": {},
   "outputs": [
    {
     "name": "stderr",
     "output_type": "stream",
     "text": [
      "/home/babi/miniconda3/envs/week10/lib/python3.8/site-packages/langchain_core/_api/deprecation.py:117: LangChainDeprecationWarning: The class `langchain_community.embeddings.openai.OpenAIEmbeddings` was deprecated in langchain-community 0.1.0 and will be removed in 0.2.0. An updated version of the class exists in the langchain-openai package and should be used instead. To use it run `pip install -U langchain-openai` and import as `from langchain_openai import OpenAIEmbeddings`.\n",
      "  warn_deprecated(\n",
      "2024-03-21 15:51:56,535 - DEBUG - load_ssl_context verify=True cert=None trust_env=True http2=False\n",
      "2024-03-21 15:51:56,537 - DEBUG - load_verify_locations cafile='/home/babi/miniconda3/envs/week10/lib/python3.8/site-packages/certifi/cacert.pem'\n",
      "2024-03-21 15:51:56,545 - DEBUG - load_ssl_context verify=True cert=None trust_env=True http2=False\n",
      "2024-03-21 15:51:56,546 - DEBUG - load_verify_locations cafile='/home/babi/miniconda3/envs/week10/lib/python3.8/site-packages/certifi/cacert.pem'\n"
     ]
    }
   ],
   "source": [
    "from rag.rag_pipeline import Rag\n",
    "import pandas as pd"
   ]
  },
  {
   "cell_type": "code",
   "execution_count": 3,
   "metadata": {},
   "outputs": [
    {
     "name": "stderr",
     "output_type": "stream",
     "text": [
      "2024-03-21 15:51:57,428 - DEBUG - load_ssl_context verify=True cert=None trust_env=True http2=False\n",
      "2024-03-21 15:51:57,429 - DEBUG - load_verify_locations cafile='/home/babi/miniconda3/envs/week10/lib/python3.8/site-packages/certifi/cacert.pem'\n",
      "2024-03-21 15:51:57,439 - DEBUG - load_ssl_context verify=True cert=None trust_env=True http2=False\n",
      "2024-03-21 15:51:57,440 - DEBUG - load_verify_locations cafile='/home/babi/miniconda3/envs/week10/lib/python3.8/site-packages/certifi/cacert.pem'\n",
      "2024-03-21 15:51:57,642 - DEBUG - Registering provider: token_config\n",
      "2024-03-21 15:51:57,644 - DEBUG - Registering provider: user_token_config\n",
      "2024-03-21 15:51:57,646 - DEBUG - Registering provider: token\n",
      "2024-03-21 15:51:57,647 - DEBUG - Registering provider: token\n",
      "2024-03-21 15:51:57,657 - INFO - Anonymized telemetry enabled. See                     https://docs.trychroma.com/telemetry for more information.\n",
      "2024-03-21 15:51:57,766 - DEBUG - Starting component System\n",
      "2024-03-21 15:51:57,766 - DEBUG - Starting component Posthog\n",
      "2024-03-21 15:51:57,767 - DEBUG - Starting component OpenTelemetryClient\n",
      "2024-03-21 15:51:57,768 - DEBUG - Starting component SimpleAssignmentPolicy\n",
      "2024-03-21 15:51:57,768 - DEBUG - Starting component SqliteDB\n",
      "2024-03-21 15:51:57,773 - DEBUG - Starting component QuotaEnforcer\n",
      "2024-03-21 15:51:57,773 - DEBUG - Starting component LocalSegmentManager\n",
      "2024-03-21 15:51:57,774 - DEBUG - Starting component SegmentAPI\n",
      "2024-03-21 15:51:57,789 - DEBUG - load_ssl_context verify=True cert=None trust_env=True http2=False\n",
      "2024-03-21 15:51:57,790 - DEBUG - load_verify_locations cafile='/home/babi/miniconda3/envs/week10/lib/python3.8/site-packages/certifi/cacert.pem'\n",
      "2024-03-21 15:51:57,796 - DEBUG - load_ssl_context verify=True cert=None trust_env=True http2=False\n",
      "2024-03-21 15:51:57,797 - DEBUG - load_verify_locations cafile='/home/babi/miniconda3/envs/week10/lib/python3.8/site-packages/certifi/cacert.pem'\n",
      "2024-03-21 15:51:57,807 - INFO - langchain with rag pipeline created successfully.\n"
     ]
    },
    {
     "name": "stderr",
     "output_type": "stream",
     "text": [
      "2024-03-21 15:51:58,278 - DEBUG - Starting new HTTPS connection (1): us-api.i.posthog.com:443\n",
      "2024-03-21 15:51:59,320 - DEBUG - https://us-api.i.posthog.com:443 \"POST /batch/ HTTP/1.1\" 200 None\n"
     ]
    }
   ],
   "source": [
    "rag_chain = Rag()"
   ]
  },
  {
   "cell_type": "markdown",
   "metadata": {},
   "source": [
    "#### Populate Campaign Data into vector database"
   ]
  },
  {
   "cell_type": "code",
   "execution_count": 6,
   "metadata": {},
   "outputs": [],
   "source": [
    "campaign_df = pd.read_csv(\"../data/campaign_data.csv\")"
   ]
  },
  {
   "cell_type": "code",
   "execution_count": 7,
   "metadata": {},
   "outputs": [
    {
     "data": {
      "text/html": [
       "<div>\n",
       "<style scoped>\n",
       "    .dataframe tbody tr th:only-of-type {\n",
       "        vertical-align: middle;\n",
       "    }\n",
       "\n",
       "    .dataframe tbody tr th {\n",
       "        vertical-align: top;\n",
       "    }\n",
       "\n",
       "    .dataframe thead th {\n",
       "        text-align: right;\n",
       "    }\n",
       "</style>\n",
       "<table border=\"1\" class=\"dataframe\">\n",
       "  <thead>\n",
       "    <tr style=\"text-align: right;\">\n",
       "      <th></th>\n",
       "      <th>campaignid</th>\n",
       "      <th>budget_amount</th>\n",
       "      <th>budget_currencycode</th>\n",
       "      <th>KPI</th>\n",
       "      <th>pricing_model</th>\n",
       "      <th>geo_targeting</th>\n",
       "      <th>vertical</th>\n",
       "      <th>targeting</th>\n",
       "    </tr>\n",
       "  </thead>\n",
       "  <tbody>\n",
       "    <tr>\n",
       "      <th>0</th>\n",
       "      <td>f4p5a01</td>\n",
       "      <td>277.12</td>\n",
       "      <td>USD</td>\n",
       "      <td>Engagement</td>\n",
       "      <td>CPE</td>\n",
       "      <td>NaN</td>\n",
       "      <td>Sports</td>\n",
       "      <td>Opinion Leaders| Investors| Policy Makers| C&amp;I...</td>\n",
       "    </tr>\n",
       "    <tr>\n",
       "      <th>1</th>\n",
       "      <td>664kg61</td>\n",
       "      <td>160.76</td>\n",
       "      <td>USD</td>\n",
       "      <td>Engagement</td>\n",
       "      <td>CPE</td>\n",
       "      <td>NaN</td>\n",
       "      <td>Sports</td>\n",
       "      <td>NaN</td>\n",
       "    </tr>\n",
       "    <tr>\n",
       "      <th>2</th>\n",
       "      <td>cvpj79c</td>\n",
       "      <td>65.61</td>\n",
       "      <td>USD</td>\n",
       "      <td>Engagement</td>\n",
       "      <td>CPE</td>\n",
       "      <td>NaN</td>\n",
       "      <td>Sports</td>\n",
       "      <td>Opinion Leaders| Investors| Policy Makers| C&amp;I...</td>\n",
       "    </tr>\n",
       "    <tr>\n",
       "      <th>3</th>\n",
       "      <td>kk6arx4</td>\n",
       "      <td>1300.00</td>\n",
       "      <td>USD</td>\n",
       "      <td>Engagement</td>\n",
       "      <td>CPE</td>\n",
       "      <td>NaN</td>\n",
       "      <td>Hobbies &amp; Interests</td>\n",
       "      <td>NaN</td>\n",
       "    </tr>\n",
       "    <tr>\n",
       "      <th>4</th>\n",
       "      <td>fisff0r</td>\n",
       "      <td>1728.87</td>\n",
       "      <td>USD</td>\n",
       "      <td>Click</td>\n",
       "      <td>CPC</td>\n",
       "      <td>NaN</td>\n",
       "      <td>Automotive</td>\n",
       "      <td>NaN</td>\n",
       "    </tr>\n",
       "    <tr>\n",
       "      <th>...</th>\n",
       "      <td>...</td>\n",
       "      <td>...</td>\n",
       "      <td>...</td>\n",
       "      <td>...</td>\n",
       "      <td>...</td>\n",
       "      <td>...</td>\n",
       "      <td>...</td>\n",
       "      <td>...</td>\n",
       "    </tr>\n",
       "    <tr>\n",
       "      <th>81</th>\n",
       "      <td>5hvng9w</td>\n",
       "      <td>1826.47</td>\n",
       "      <td>USD</td>\n",
       "      <td>Reach</td>\n",
       "      <td>CPM</td>\n",
       "      <td>NaN</td>\n",
       "      <td>Arts &amp; Entertainment</td>\n",
       "      <td>NaN</td>\n",
       "    </tr>\n",
       "    <tr>\n",
       "      <th>82</th>\n",
       "      <td>m1p7fvc</td>\n",
       "      <td>2331.00</td>\n",
       "      <td>USD</td>\n",
       "      <td>Engagement</td>\n",
       "      <td>CPE</td>\n",
       "      <td>NaN</td>\n",
       "      <td>Health &amp; Fitness</td>\n",
       "      <td>25-35| Males (30%) &amp; Females (70%)| LSM 6-16</td>\n",
       "    </tr>\n",
       "    <tr>\n",
       "      <th>83</th>\n",
       "      <td>woln7nu</td>\n",
       "      <td>8691.59</td>\n",
       "      <td>USD</td>\n",
       "      <td>Reach</td>\n",
       "      <td>CPM</td>\n",
       "      <td>NaN</td>\n",
       "      <td>Arts &amp; Entertainment</td>\n",
       "      <td>NaN</td>\n",
       "    </tr>\n",
       "    <tr>\n",
       "      <th>84</th>\n",
       "      <td>9j2r3sb</td>\n",
       "      <td>1500.00</td>\n",
       "      <td>USD</td>\n",
       "      <td>Click</td>\n",
       "      <td>CPC</td>\n",
       "      <td>NaN</td>\n",
       "      <td>Hobbies &amp; Interests</td>\n",
       "      <td>NaN</td>\n",
       "    </tr>\n",
       "    <tr>\n",
       "      <th>85</th>\n",
       "      <td>erkvo1a</td>\n",
       "      <td>2050.00</td>\n",
       "      <td>USD</td>\n",
       "      <td>Engagement</td>\n",
       "      <td>CPE</td>\n",
       "      <td>NaN</td>\n",
       "      <td>Arts &amp; Entertainment</td>\n",
       "      <td>Males &amp; Females | 18-44| Food and Lifestyle| E...</td>\n",
       "    </tr>\n",
       "  </tbody>\n",
       "</table>\n",
       "<p>86 rows × 8 columns</p>\n",
       "</div>"
      ],
      "text/plain": [
       "   campaignid  budget_amount budget_currencycode         KPI pricing_model  \\\n",
       "0     f4p5a01         277.12                 USD  Engagement           CPE   \n",
       "1     664kg61         160.76                 USD  Engagement           CPE   \n",
       "2     cvpj79c          65.61                 USD  Engagement           CPE   \n",
       "3     kk6arx4        1300.00                 USD  Engagement           CPE   \n",
       "4     fisff0r        1728.87                 USD       Click           CPC   \n",
       "..        ...            ...                 ...         ...           ...   \n",
       "81    5hvng9w        1826.47                 USD       Reach           CPM   \n",
       "82    m1p7fvc        2331.00                 USD  Engagement           CPE   \n",
       "83    woln7nu        8691.59                 USD       Reach           CPM   \n",
       "84    9j2r3sb        1500.00                 USD       Click           CPC   \n",
       "85    erkvo1a        2050.00                 USD  Engagement           CPE   \n",
       "\n",
       "   geo_targeting              vertical  \\\n",
       "0            NaN                Sports   \n",
       "1            NaN                Sports   \n",
       "2            NaN                Sports   \n",
       "3            NaN   Hobbies & Interests   \n",
       "4            NaN            Automotive   \n",
       "..           ...                   ...   \n",
       "81           NaN  Arts & Entertainment   \n",
       "82           NaN      Health & Fitness   \n",
       "83           NaN  Arts & Entertainment   \n",
       "84           NaN   Hobbies & Interests   \n",
       "85           NaN  Arts & Entertainment   \n",
       "\n",
       "                                            targeting  \n",
       "0   Opinion Leaders| Investors| Policy Makers| C&I...  \n",
       "1                                                 NaN  \n",
       "2   Opinion Leaders| Investors| Policy Makers| C&I...  \n",
       "3                                                 NaN  \n",
       "4                                                 NaN  \n",
       "..                                                ...  \n",
       "81                                                NaN  \n",
       "82       25-35| Males (30%) & Females (70%)| LSM 6-16  \n",
       "83                                                NaN  \n",
       "84                                                NaN  \n",
       "85  Males & Females | 18-44| Food and Lifestyle| E...  \n",
       "\n",
       "[86 rows x 8 columns]"
      ]
     },
     "execution_count": 7,
     "metadata": {},
     "output_type": "execute_result"
    }
   ],
   "source": [
    "campaign_df"
   ]
  },
  {
   "cell_type": "code",
   "execution_count": 8,
   "metadata": {},
   "outputs": [
    {
     "data": {
      "text/plain": [
       "Index(['campaignid', 'budget_amount', 'budget_currencycode', 'KPI',\n",
       "       'pricing_model', 'geo_targeting', 'vertical', 'targeting'],\n",
       "      dtype='object')"
      ]
     },
     "execution_count": 8,
     "metadata": {},
     "output_type": "execute_result"
    }
   ],
   "source": [
    "campaign_df.columns"
   ]
  },
  {
   "cell_type": "code",
   "execution_count": null,
   "metadata": {},
   "outputs": [],
   "source": []
  }
 ],
 "metadata": {
  "kernelspec": {
   "display_name": "week10",
   "language": "python",
   "name": "python3"
  },
  "language_info": {
   "codemirror_mode": {
    "name": "ipython",
    "version": 3
   },
   "file_extension": ".py",
   "mimetype": "text/x-python",
   "name": "python",
   "nbconvert_exporter": "python",
   "pygments_lexer": "ipython3",
   "version": "3.8.2"
  }
 },
 "nbformat": 4,
 "nbformat_minor": 2
}
