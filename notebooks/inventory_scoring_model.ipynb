{
 "cells": [
  {
   "cell_type": "markdown",
   "metadata": {},
   "source": [
    "### Inventory Scoring Mode"
   ]
  },
  {
   "cell_type": "markdown",
   "metadata": {},
   "source": [
    "#### Import Packages"
   ]
  },
  {
   "cell_type": "code",
   "execution_count": 32,
   "metadata": {},
   "outputs": [],
   "source": [
    "import pandas as pd\n",
    "import numpy as np\n",
    "import pandas as pd\n",
    "import xgboost as xgb\n",
    "from sklearn.model_selection import train_test_split\n",
    "from sklearn.metrics import mean_squared_error\n",
    "from category_encoders import OrdinalEncoder"
   ]
  },
  {
   "cell_type": "markdown",
   "metadata": {},
   "source": [
    "#### Load the datasets"
   ]
  },
  {
   "cell_type": "code",
   "execution_count": 33,
   "metadata": {},
   "outputs": [],
   "source": [
    "campaign_df = pd.read_csv(\"../data/campaign_data.csv\")\n",
    "creative_df = pd.read_csv(\"../data/creative_data.csv\")\n",
    "inventory_df = pd.read_csv(\"../data/Inventory_data.csv\")"
   ]
  },
  {
   "cell_type": "markdown",
   "metadata": {},
   "source": [
    "##### Fix inconsistency namings"
   ]
  },
  {
   "cell_type": "code",
   "execution_count": 34,
   "metadata": {},
   "outputs": [],
   "source": [
    "campaign_df.rename(columns={'campaignid': 'campaign_id'}, inplace=True)"
   ]
  },
  {
   "cell_type": "markdown",
   "metadata": {},
   "source": [
    "##### Merge the 3 dataframes based on campaign_ig and game_key"
   ]
  },
  {
   "cell_type": "code",
   "execution_count": 35,
   "metadata": {},
   "outputs": [
    {
     "data": {
      "text/html": [
       "<div>\n",
       "<style scoped>\n",
       "    .dataframe tbody tr th:only-of-type {\n",
       "        vertical-align: middle;\n",
       "    }\n",
       "\n",
       "    .dataframe tbody tr th {\n",
       "        vertical-align: top;\n",
       "    }\n",
       "\n",
       "    .dataframe thead th {\n",
       "        text-align: right;\n",
       "    }\n",
       "</style>\n",
       "<table border=\"1\" class=\"dataframe\">\n",
       "  <thead>\n",
       "    <tr style=\"text-align: right;\">\n",
       "      <th></th>\n",
       "      <th>campaign_id</th>\n",
       "      <th>budget_amount</th>\n",
       "      <th>budget_currencycode</th>\n",
       "      <th>KPI</th>\n",
       "      <th>pricing_model</th>\n",
       "      <th>geo_targeting</th>\n",
       "      <th>vertical</th>\n",
       "      <th>targeting</th>\n",
       "      <th>game_key</th>\n",
       "      <th>adformat</th>\n",
       "      <th>...</th>\n",
       "      <th>renderingcontext</th>\n",
       "      <th>osfamily</th>\n",
       "      <th>devicetype</th>\n",
       "      <th>devicemake</th>\n",
       "      <th>site_name</th>\n",
       "      <th>matchedfoldposition</th>\n",
       "      <th>browser</th>\n",
       "      <th>impression</th>\n",
       "      <th>engagement</th>\n",
       "      <th>click</th>\n",
       "    </tr>\n",
       "  </thead>\n",
       "  <tbody>\n",
       "    <tr>\n",
       "      <th>0</th>\n",
       "      <td>f4p5a01</td>\n",
       "      <td>277.12</td>\n",
       "      <td>USD</td>\n",
       "      <td>Engagement</td>\n",
       "      <td>CPE</td>\n",
       "      <td>NaN</td>\n",
       "      <td>Sports</td>\n",
       "      <td>Opinion Leaders| Investors| Policy Makers| C&amp;I...</td>\n",
       "      <td>b4f31c796c130fd594d253ba9336a01d/7ae9931edb2ed...</td>\n",
       "      <td>320x480</td>\n",
       "      <td>...</td>\n",
       "      <td>MobileOptimizedWeb</td>\n",
       "      <td>6.0</td>\n",
       "      <td>3.0</td>\n",
       "      <td>Samsung</td>\n",
       "      <td>www.yahoo.com</td>\n",
       "      <td>4.0</td>\n",
       "      <td>Chrome</td>\n",
       "      <td>57.0</td>\n",
       "      <td>0.0</td>\n",
       "      <td>0.0</td>\n",
       "    </tr>\n",
       "    <tr>\n",
       "      <th>1</th>\n",
       "      <td>f4p5a01</td>\n",
       "      <td>277.12</td>\n",
       "      <td>USD</td>\n",
       "      <td>Engagement</td>\n",
       "      <td>CPE</td>\n",
       "      <td>NaN</td>\n",
       "      <td>Sports</td>\n",
       "      <td>Opinion Leaders| Investors| Policy Makers| C&amp;I...</td>\n",
       "      <td>b4f31c796c130fd594d253ba9336a01d/7ae9931edb2ed...</td>\n",
       "      <td>320x480</td>\n",
       "      <td>...</td>\n",
       "      <td>MobileOptimizedWeb</td>\n",
       "      <td>5.0</td>\n",
       "      <td>4.0</td>\n",
       "      <td>Apple</td>\n",
       "      <td>www.yahoo.com</td>\n",
       "      <td>4.0</td>\n",
       "      <td>Mobile Safari</td>\n",
       "      <td>983.0</td>\n",
       "      <td>265.0</td>\n",
       "      <td>71.0</td>\n",
       "    </tr>\n",
       "    <tr>\n",
       "      <th>2</th>\n",
       "      <td>f4p5a01</td>\n",
       "      <td>277.12</td>\n",
       "      <td>USD</td>\n",
       "      <td>Engagement</td>\n",
       "      <td>CPE</td>\n",
       "      <td>NaN</td>\n",
       "      <td>Sports</td>\n",
       "      <td>Opinion Leaders| Investors| Policy Makers| C&amp;I...</td>\n",
       "      <td>b4f31c796c130fd594d253ba9336a01d/7ae9931edb2ed...</td>\n",
       "      <td>320x480</td>\n",
       "      <td>...</td>\n",
       "      <td>MobileOptimizedWeb</td>\n",
       "      <td>6.0</td>\n",
       "      <td>4.0</td>\n",
       "      <td>Samsung</td>\n",
       "      <td>www.yahoo.com</td>\n",
       "      <td>4.0</td>\n",
       "      <td>Chrome</td>\n",
       "      <td>9.0</td>\n",
       "      <td>0.0</td>\n",
       "      <td>0.0</td>\n",
       "    </tr>\n",
       "    <tr>\n",
       "      <th>3</th>\n",
       "      <td>f4p5a01</td>\n",
       "      <td>277.12</td>\n",
       "      <td>USD</td>\n",
       "      <td>Engagement</td>\n",
       "      <td>CPE</td>\n",
       "      <td>NaN</td>\n",
       "      <td>Sports</td>\n",
       "      <td>Opinion Leaders| Investors| Policy Makers| C&amp;I...</td>\n",
       "      <td>b4f31c796c130fd594d253ba9336a01d/7ae9931edb2ed...</td>\n",
       "      <td>320x480</td>\n",
       "      <td>...</td>\n",
       "      <td>MobileOptimizedWeb</td>\n",
       "      <td>5.0</td>\n",
       "      <td>4.0</td>\n",
       "      <td>Apple</td>\n",
       "      <td>www.the-sun.com</td>\n",
       "      <td>4.0</td>\n",
       "      <td>Mobile Safari UI/WKWebView</td>\n",
       "      <td>3.0</td>\n",
       "      <td>0.0</td>\n",
       "      <td>0.0</td>\n",
       "    </tr>\n",
       "    <tr>\n",
       "      <th>4</th>\n",
       "      <td>f4p5a01</td>\n",
       "      <td>277.12</td>\n",
       "      <td>USD</td>\n",
       "      <td>Engagement</td>\n",
       "      <td>CPE</td>\n",
       "      <td>NaN</td>\n",
       "      <td>Sports</td>\n",
       "      <td>Opinion Leaders| Investors| Policy Makers| C&amp;I...</td>\n",
       "      <td>b4f31c796c130fd594d253ba9336a01d/7ae9931edb2ed...</td>\n",
       "      <td>320x480</td>\n",
       "      <td>...</td>\n",
       "      <td>MobileOptimizedWeb</td>\n",
       "      <td>6.0</td>\n",
       "      <td>4.0</td>\n",
       "      <td>Samsung</td>\n",
       "      <td>currently.att.yahoo.com</td>\n",
       "      <td>4.0</td>\n",
       "      <td>Chrome Mobile</td>\n",
       "      <td>27.0</td>\n",
       "      <td>3.0</td>\n",
       "      <td>0.0</td>\n",
       "    </tr>\n",
       "  </tbody>\n",
       "</table>\n",
       "<p>5 rows × 21 columns</p>\n",
       "</div>"
      ],
      "text/plain": [
       "  campaign_id  budget_amount budget_currencycode         KPI pricing_model  \\\n",
       "0     f4p5a01         277.12                 USD  Engagement           CPE   \n",
       "1     f4p5a01         277.12                 USD  Engagement           CPE   \n",
       "2     f4p5a01         277.12                 USD  Engagement           CPE   \n",
       "3     f4p5a01         277.12                 USD  Engagement           CPE   \n",
       "4     f4p5a01         277.12                 USD  Engagement           CPE   \n",
       "\n",
       "  geo_targeting vertical                                          targeting  \\\n",
       "0           NaN   Sports  Opinion Leaders| Investors| Policy Makers| C&I...   \n",
       "1           NaN   Sports  Opinion Leaders| Investors| Policy Makers| C&I...   \n",
       "2           NaN   Sports  Opinion Leaders| Investors| Policy Makers| C&I...   \n",
       "3           NaN   Sports  Opinion Leaders| Investors| Policy Makers| C&I...   \n",
       "4           NaN   Sports  Opinion Leaders| Investors| Policy Makers| C&I...   \n",
       "\n",
       "                                            game_key adformat  ...  \\\n",
       "0  b4f31c796c130fd594d253ba9336a01d/7ae9931edb2ed...  320x480  ...   \n",
       "1  b4f31c796c130fd594d253ba9336a01d/7ae9931edb2ed...  320x480  ...   \n",
       "2  b4f31c796c130fd594d253ba9336a01d/7ae9931edb2ed...  320x480  ...   \n",
       "3  b4f31c796c130fd594d253ba9336a01d/7ae9931edb2ed...  320x480  ...   \n",
       "4  b4f31c796c130fd594d253ba9336a01d/7ae9931edb2ed...  320x480  ...   \n",
       "\n",
       "     renderingcontext osfamily  devicetype  devicemake  \\\n",
       "0  MobileOptimizedWeb      6.0         3.0     Samsung   \n",
       "1  MobileOptimizedWeb      5.0         4.0       Apple   \n",
       "2  MobileOptimizedWeb      6.0         4.0     Samsung   \n",
       "3  MobileOptimizedWeb      5.0         4.0       Apple   \n",
       "4  MobileOptimizedWeb      6.0         4.0     Samsung   \n",
       "\n",
       "                 site_name matchedfoldposition                     browser  \\\n",
       "0            www.yahoo.com                 4.0                      Chrome   \n",
       "1            www.yahoo.com                 4.0               Mobile Safari   \n",
       "2            www.yahoo.com                 4.0                      Chrome   \n",
       "3          www.the-sun.com                 4.0  Mobile Safari UI/WKWebView   \n",
       "4  currently.att.yahoo.com                 4.0               Chrome Mobile   \n",
       "\n",
       "  impression  engagement  click  \n",
       "0       57.0         0.0    0.0  \n",
       "1      983.0       265.0   71.0  \n",
       "2        9.0         0.0    0.0  \n",
       "3        3.0         0.0    0.0  \n",
       "4       27.0         3.0    0.0  \n",
       "\n",
       "[5 rows x 21 columns]"
      ]
     },
     "execution_count": 35,
     "metadata": {},
     "output_type": "execute_result"
    }
   ],
   "source": [
    "# Merge the dataframes based on common columns\n",
    "merged_df = pd.merge(campaign_df, creative_df, on='campaign_id', how='left')\n",
    "merged_df = pd.merge(merged_df, inventory_df, on=['campaign_id', 'game_key'], how='left')\n",
    "\n",
    "merged_df.head()"
   ]
  },
  {
   "cell_type": "markdown",
   "metadata": {},
   "source": [
    "#### Remove rows that have a campaign but no inventory"
   ]
  },
  {
   "cell_type": "code",
   "execution_count": 36,
   "metadata": {},
   "outputs": [],
   "source": [
    "merged_df = merged_df[~merged_df['campaign_id'].isin(campaign_df[~campaign_df['campaign_id'].isin(inventory_df['campaign_id'])]['campaign_id'])]"
   ]
  },
  {
   "cell_type": "markdown",
   "metadata": {},
   "source": [
    "#### Compute click through rate"
   ]
  },
  {
   "cell_type": "code",
   "execution_count": 37,
   "metadata": {},
   "outputs": [],
   "source": [
    "merged_df['CTR'] = np.where(merged_df['impression'] != 0,\n",
    "                            (merged_df['click'] / merged_df['impression']) * 100,\n",
    "                            0)"
   ]
  },
  {
   "cell_type": "markdown",
   "metadata": {},
   "source": [
    "#### Mapping of number to value for 3 colums"
   ]
  },
  {
   "cell_type": "code",
   "execution_count": 38,
   "metadata": {},
   "outputs": [],
   "source": [
    "os_family_mapping = { 1: \"Other\", 2: \"Windows\",  3: \"OS X\",  4: \"Linux\",  5: \"iOS\", 6: \"Android\",  7: \"Windows Phone\"}\n",
    "device_type_mapping = { 1: \"Other\",2: \"PC\", 3: \"Tablet\", 4: \"Mobile\", 5: \"Roku\", 6: \"ConnectedTV\", 7: \"OutOfHome\", 8: \"HomeAssistant\"}\n",
    "foldposition_mapping = {1: \"Any\", 2: \"Above\", 3: \"Below\", 4: \"Unknown\"}\n",
    "\n",
    "merged_df[\"osfamily\"] = merged_df[\"osfamily\"].map(os_family_mapping)\n",
    "merged_df[\"devicetype\"] = merged_df[\"devicetype\"].map(device_type_mapping)\n",
    "merged_df[\"matchedfoldposition\"] = merged_df[\"matchedfoldposition\"].map( foldposition_mapping)"
   ]
  },
  {
   "cell_type": "code",
   "execution_count": 40,
   "metadata": {},
   "outputs": [],
   "source": [
    "merged_df = merged_df.drop(columns=['campaign_id', \"budget_amount\", \"budget_currencycode\", \"KPI\", \"pricing_model\", \"game_key\", \"impression\", \"engagement\", \"click\", \"site_name\", \"targeting\"])"
   ]
  },
  {
   "cell_type": "code",
   "execution_count": 41,
   "metadata": {},
   "outputs": [
    {
     "data": {
      "text/plain": [
       "Index(['geo_targeting', 'vertical', 'adformat', 'creative', 'renderingcontext',\n",
       "       'osfamily', 'devicetype', 'devicemake', 'matchedfoldposition',\n",
       "       'browser', 'CTR'],\n",
       "      dtype='object')"
      ]
     },
     "execution_count": 41,
     "metadata": {},
     "output_type": "execute_result"
    }
   ],
   "source": [
    "merged_df.columns"
   ]
  },
  {
   "cell_type": "code",
   "execution_count": 42,
   "metadata": {},
   "outputs": [
    {
     "data": {
      "text/plain": [
       "[{'geo_targeting': nan,\n",
       "  'vertical': 'Sports',\n",
       "  'adformat': '320x480',\n",
       "  'creative': 'Sensory Video',\n",
       "  'renderingcontext': 'MobileOptimizedWeb',\n",
       "  'osfamily': 'Android',\n",
       "  'devicetype': 'Tablet',\n",
       "  'devicemake': 'Samsung',\n",
       "  'matchedfoldposition': 'Unknown',\n",
       "  'browser': 'Chrome',\n",
       "  'CTR': 0.0}]"
      ]
     },
     "execution_count": 42,
     "metadata": {},
     "output_type": "execute_result"
    }
   ],
   "source": [
    "merged_df.head(1).to_dict(orient=\"records\")"
   ]
  },
  {
   "cell_type": "markdown",
   "metadata": {},
   "source": [
    "#### Handling Missing Data "
   ]
  },
  {
   "cell_type": "code",
   "execution_count": 43,
   "metadata": {},
   "outputs": [
    {
     "name": "stdout",
     "output_type": "stream",
     "text": [
      "geo_targeting          91.161239\n",
      "vertical                0.000000\n",
      "adformat                0.000000\n",
      "creative                2.900846\n",
      "renderingcontext        0.000000\n",
      "osfamily                0.003899\n",
      "devicetype              0.000101\n",
      "devicemake              1.916644\n",
      "matchedfoldposition     0.000067\n",
      "browser                 0.091890\n",
      "CTR                     0.000000\n",
      "dtype: float64\n"
     ]
    }
   ],
   "source": [
    "# Calculate the percentage of missing values in each column\n",
    "missing_percentage = merged_df.isnull().sum() / len(merged_df) * 100\n",
    "\n",
    "# Print the percentage of missing values for each column\n",
    "print(missing_percentage)"
   ]
  },
  {
   "cell_type": "code",
   "execution_count": 45,
   "metadata": {},
   "outputs": [],
   "source": [
    "merged_df['geo_targeting'].fillna(value=\"Unknown\", inplace=True)\n",
    "# merged_df['targeting'].fillna(value=\"Unknown\", inplace=True)\n",
    "merged_df['creative'].fillna(value=\"Unknown\", inplace=True)\n",
    "\n",
    "merged_df['browser'].fillna(value=merged_df['browser'].mode()[0], inplace=True)\n",
    "merged_df['devicemake'].fillna(value=merged_df['devicemake'].mode()[0], inplace=True)\n",
    "merged_df['devicetype'].fillna(value=merged_df['devicetype'].mode()[0], inplace=True)\n",
    "merged_df['matchedfoldposition'].fillna(value=merged_df['matchedfoldposition'].mode()[0], inplace=True)\n",
    "merged_df['osfamily'].fillna(value=merged_df['osfamily'].mode()[0], inplace=True)"
   ]
  },
  {
   "cell_type": "code",
   "execution_count": 13,
   "metadata": {},
   "outputs": [],
   "source": [
    "sample_df = merged_df.iloc[:, :]"
   ]
  },
  {
   "cell_type": "code",
   "execution_count": 59,
   "metadata": {},
   "outputs": [],
   "source": [
    "# Optional: Encode categorical variables if they're not numerically encoded\n",
    "# It's important for algorithms like XGBoost that expect numerical input\n",
    "encoder = OrdinalEncoder(cols=['geo_targeting', 'vertical', 'targeting', 'adformat', 'creative',\n",
    "                               'renderingcontext', 'osfamily', 'devicetype', 'devicemake', \n",
    "                               'site_name', 'matchedfoldposition', 'browser'])\n",
    "merged_df_encoded = encoder.fit_transform(sample_df)\n",
    "\n"
   ]
  },
  {
   "cell_type": "code",
   "execution_count": 60,
   "metadata": {},
   "outputs": [],
   "source": [
    "# Split data into features and target\n",
    "X = merged_df_encoded.drop('CTR', axis=1)\n",
    "y = merged_df_encoded['CTR']\n",
    "\n",
    "# Split data into training and testing sets\n",
    "X_train, X_test, y_train, y_test = train_test_split(X, y, test_size=0.2, random_state=42)\n"
   ]
  },
  {
   "cell_type": "code",
   "execution_count": 65,
   "metadata": {},
   "outputs": [],
   "source": [
    "from sklearn.ensemble import RandomForestRegressor\n",
    "from sklearn.metrics import mean_squared_error\n",
    "from sklearn.preprocessing import OneHotEncoder\n",
    "from sklearn.compose import ColumnTransformer\n",
    "from sklearn.pipeline import Pipeline\n",
    "\n",
    "# Assuming merged_df is your DataFrame\n",
    "\n",
    "# Define categorical columns\n",
    "categorical_columns = ['matchedfoldposition', 'devicetype', 'osfamily']\n",
    "\n",
    "# Map categorical columns to their categories\n",
    "categories = {\n",
    "    'matchedfoldposition': ['Any', 'Above', 'Below', 'Unknown'],\n",
    "    'devicetype': ['Other', 'PC', 'Tablet', 'Mobile', 'Roku', 'ConnectedTV', 'OutOfHome', 'HomeAssistant'],\n",
    "    'osfamily': ['Other', 'Windows', 'OS X', 'Linux', 'iOS', 'Android', 'Windows Phone']\n",
    "}\n",
    "\n",
    "# Preprocessing for categorical data\n",
    "categorical_preprocessor = OneHotEncoder(categories=[categories[col] for col in categorical_columns])\n",
    "\n",
    "# Bundle preprocessing for numerical and categorical data\n",
    "preprocessor = ColumnTransformer(\n",
    "    transformers=[\n",
    "        ('cat', categorical_preprocessor, categorical_columns)\n",
    "    ], remainder='passthrough')"
   ]
  },
  {
   "cell_type": "code",
   "execution_count": 70,
   "metadata": {},
   "outputs": [],
   "source": [
    "# Define the model\n",
    "model = RandomForestRegressor(n_estimators=100, random_state=42)\n",
    "\n",
    "# Bundle preprocessing and modeling code in a pipeline\n",
    "clf = Pipeline(steps=[\n",
    "                      ('model', model)])"
   ]
  },
  {
   "cell_type": "code",
   "execution_count": 71,
   "metadata": {},
   "outputs": [],
   "source": [
    "# Separate target from predictors\n",
    "X = merged_df.drop('CTR', axis=1)\n",
    "y = merged_df['CTR']\n",
    "\n",
    "# Split data into training and test sets\n",
    "X_train, X_test, y_train, y_test = train_test_split(X, y, test_size=0.2, random_state=42)\n"
   ]
  },
  {
   "cell_type": "code",
   "execution_count": null,
   "metadata": {},
   "outputs": [],
   "source": [
    "# Preprocessing of training data, fit model \n",
    "clf.fit(X_train, y_train)"
   ]
  },
  {
   "cell_type": "code",
   "execution_count": 32,
   "metadata": {},
   "outputs": [],
   "source": [
    "sample_df = merged_df.iloc[:, :]"
   ]
  },
  {
   "cell_type": "code",
   "execution_count": 38,
   "metadata": {},
   "outputs": [
    {
     "data": {
      "text/plain": [
       "geo_targeting    object\n",
       "dtype: object"
      ]
     },
     "execution_count": 38,
     "metadata": {},
     "output_type": "execute_result"
    }
   ],
   "source": [
    "sample_df.iloc[:1,:1].dtypes"
   ]
  },
  {
   "cell_type": "code",
   "execution_count": 47,
   "metadata": {},
   "outputs": [],
   "source": [
    "import pandas as pd\n",
    "from sklearn.model_selection import train_test_split\n",
    "from sklearn.ensemble import RandomForestRegressor\n",
    "from sklearn.metrics import mean_squared_error\n",
    "from sklearn.pipeline import Pipeline\n",
    "from sklearn.compose import ColumnTransformer\n",
    "from sklearn.preprocessing import OneHotEncoder\n",
    "\n",
    "# Assuming 'merged_df' is your DataFrame and 'CTR' is your target\n",
    "\n",
    "# Splitting features and target\n",
    "X = sample_df.drop(['CTR'], axis=1)\n",
    "y = sample_df['CTR']\n",
    "\n",
    "# Identifying categorical columns (excluding target variable 'CTR')\n",
    "categorical_cols = [\"matchedfoldposition\", \"devicetype\", \"osfamily\"]\n",
    "\n",
    "# No explicit numerical features to preprocess in this dataset except the target\n",
    "# If there were numerical features, they would be listed here\n",
    "\n",
    "# Preprocessor for categorical data with OneHotEncoder\n",
    "preprocessor = ColumnTransformer(\n",
    "    transformers=[\n",
    "        ('cat', OneHotEncoder(handle_unknown='ignore'), categorical_cols)\n",
    "    ])\n"
   ]
  },
  {
   "cell_type": "markdown",
   "metadata": {},
   "source": [
    "#### Random Forest Regressor"
   ]
  },
  {
   "cell_type": "code",
   "execution_count": 18,
   "metadata": {},
   "outputs": [
    {
     "name": "stdout",
     "output_type": "stream",
     "text": [
      "RMSE: 15.923724654407854\n"
     ]
    }
   ],
   "source": [
    "# Defining the model\n",
    "model = Pipeline(steps=[\n",
    "    ('preprocessor', preprocessor),\n",
    "    ('regressor', RandomForestRegressor(n_estimators=100, random_state=42))\n",
    "])\n",
    "\n",
    "# Splitting the dataset into training and testing sets\n",
    "X_train, X_test, y_train, y_test = train_test_split(X, y, test_size=0.2, random_state=42)\n",
    "\n",
    "# Training the model\n",
    "model.fit(X_train, y_train)\n",
    "\n",
    "# Predicting CTR\n",
    "predictions = model.predict(X_test)\n",
    "\n",
    "# Calculating the Root Mean Square Error (RMSE)\n",
    "rmse = mean_squared_error(y_test, predictions, squared=False)\n",
    "print(f\"RMSE: {rmse}\")\n"
   ]
  },
  {
   "cell_type": "markdown",
   "metadata": {},
   "source": [
    "#### Gradient Boosting Regressor"
   ]
  },
  {
   "cell_type": "code",
   "execution_count": 19,
   "metadata": {},
   "outputs": [
    {
     "name": "stdout",
     "output_type": "stream",
     "text": [
      "RMSE: 15.923745907743601\n"
     ]
    }
   ],
   "source": [
    "from sklearn.ensemble import GradientBoostingRegressor\n",
    "\n",
    "# Updating the model in the pipeline to GradientBoostingRegressor\n",
    "model = Pipeline(steps=[\n",
    "    ('preprocessor', preprocessor),\n",
    "    ('regressor', GradientBoostingRegressor(n_estimators=100, random_state=42))\n",
    "])\n",
    "\n",
    "# Training the model\n",
    "model.fit(X_train, y_train)\n",
    "\n",
    "# Predicting CTR\n",
    "predictions = model.predict(X_test)\n",
    "\n",
    "# Calculating the RMSE\n",
    "rmse = mean_squared_error(y_test, predictions, squared=False)\n",
    "print(f\"RMSE: {rmse}\")"
   ]
  },
  {
   "cell_type": "markdown",
   "metadata": {},
   "source": [
    "#### XGBoost (eXtreme Gradient Boosting) l"
   ]
  },
  {
   "cell_type": "code",
   "execution_count": 20,
   "metadata": {},
   "outputs": [
    {
     "name": "stdout",
     "output_type": "stream",
     "text": [
      "RMSE: 15.923730551651596\n"
     ]
    }
   ],
   "source": [
    "from xgboost import XGBRegressor\n",
    "\n",
    "# Updating the model in the pipeline to XGBRegressor\n",
    "model = Pipeline(steps=[\n",
    "    ('preprocessor', preprocessor),\n",
    "    ('regressor', XGBRegressor(objective='reg:squarederror', n_estimators=100, learning_rate=0.1, random_state=42))\n",
    "])\n",
    "\n",
    "# Training the model\n",
    "model.fit(X_train, y_train)\n",
    "\n",
    "# Predicting CTR\n",
    "predictions = model.predict(X_test)\n",
    "\n",
    "# Calculating the RMSE\n",
    "rmse = mean_squared_error(y_test, predictions, squared=False)\n",
    "print(f\"RMSE: {rmse}\")"
   ]
  },
  {
   "cell_type": "markdown",
   "metadata": {},
   "source": [
    "#### LightGBM (Light Gradient Boosting Machine)"
   ]
  },
  {
   "cell_type": "code",
   "execution_count": 22,
   "metadata": {},
   "outputs": [
    {
     "name": "stdout",
     "output_type": "stream",
     "text": [
      "[LightGBM] [Info] Auto-choosing row-wise multi-threading, the overhead of testing was 0.082810 seconds.\n",
      "You can set `force_row_wise=true` to remove the overhead.\n",
      "And if memory is not enough, you can set `force_col_wise=true`.\n",
      "[LightGBM] [Info] Total Bins 28\n",
      "[LightGBM] [Info] Number of data points in the train set: 2380243, number of used features: 14\n",
      "[LightGBM] [Info] Start training from score 3.819118\n",
      "RMSE: 15.92369691961791\n"
     ]
    }
   ],
   "source": [
    "from lightgbm import LGBMRegressor\n",
    "\n",
    "# Define a new model pipeline with LightGBM\n",
    "model = Pipeline(steps=[\n",
    "    ('preprocessor', preprocessor),\n",
    "    ('regressor', LGBMRegressor(objective='regression', num_leaves=31, learning_rate=0.05, n_estimators=100, random_state=42))\n",
    "])\n",
    "\n",
    "# Splitting the dataset (ensure X and y are already defined as per your dataset)\n",
    "X_train, X_test, y_train, y_test = train_test_split(X, y, test_size=0.2, random_state=42)\n",
    "\n",
    "# Training the model\n",
    "model.fit(X_train, y_train)\n",
    "\n",
    "# Predicting and evaluating\n",
    "predictions = model.predict(X_test)\n",
    "rmse = mean_squared_error(y_test, predictions, squared=False)\n",
    "print(f\"RMSE: {rmse}\")"
   ]
  }
 ],
 "metadata": {
  "kernelspec": {
   "display_name": "week10",
   "language": "python",
   "name": "python3"
  },
  "language_info": {
   "codemirror_mode": {
    "name": "ipython",
    "version": 3
   },
   "file_extension": ".py",
   "mimetype": "text/x-python",
   "name": "python",
   "nbconvert_exporter": "python",
   "pygments_lexer": "ipython3",
   "version": "3.8.2"
  }
 },
 "nbformat": 4,
 "nbformat_minor": 2
}
