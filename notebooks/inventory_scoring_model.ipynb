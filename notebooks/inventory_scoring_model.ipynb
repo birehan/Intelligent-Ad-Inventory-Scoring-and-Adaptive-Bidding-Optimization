{
 "cells": [
  {
   "cell_type": "markdown",
   "metadata": {},
   "source": [
    "### Inventory Scoring Mode"
   ]
  },
  {
   "cell_type": "markdown",
   "metadata": {},
   "source": [
    "#### Import Packages"
   ]
  },
  {
   "cell_type": "code",
   "execution_count": 1,
   "metadata": {},
   "outputs": [],
   "source": [
    "import pandas as pd\n",
    "import numpy as np\n",
    "import pandas as pd\n",
    "import xgboost as xgb\n",
    "from sklearn.model_selection import train_test_split\n",
    "from sklearn.metrics import mean_squared_error\n",
    "from category_encoders import OrdinalEncoder"
   ]
  },
  {
   "cell_type": "markdown",
   "metadata": {},
   "source": [
    "#### Load the datasets"
   ]
  },
  {
   "cell_type": "code",
   "execution_count": 2,
   "metadata": {},
   "outputs": [],
   "source": [
    "campaign_df = pd.read_csv(\"../data/campaign_data.csv\")\n",
    "creative_df = pd.read_csv(\"../data/creative_data.csv\")\n",
    "inventory_df = pd.read_csv(\"../data/Inventory_data.csv\")"
   ]
  },
  {
   "cell_type": "markdown",
   "metadata": {},
   "source": [
    "##### Fix inconsistency namings"
   ]
  },
  {
   "cell_type": "code",
   "execution_count": 3,
   "metadata": {},
   "outputs": [],
   "source": [
    "campaign_df.rename(columns={'campaignid': 'campaign_id'}, inplace=True)"
   ]
  },
  {
   "cell_type": "markdown",
   "metadata": {},
   "source": [
    "##### Merge the 3 dataframes based on campaign_ig and game_key"
   ]
  },
  {
   "cell_type": "code",
   "execution_count": 4,
   "metadata": {},
   "outputs": [
    {
     "data": {
      "text/html": [
       "<div>\n",
       "<style scoped>\n",
       "    .dataframe tbody tr th:only-of-type {\n",
       "        vertical-align: middle;\n",
       "    }\n",
       "\n",
       "    .dataframe tbody tr th {\n",
       "        vertical-align: top;\n",
       "    }\n",
       "\n",
       "    .dataframe thead th {\n",
       "        text-align: right;\n",
       "    }\n",
       "</style>\n",
       "<table border=\"1\" class=\"dataframe\">\n",
       "  <thead>\n",
       "    <tr style=\"text-align: right;\">\n",
       "      <th></th>\n",
       "      <th>campaign_id</th>\n",
       "      <th>budget_amount</th>\n",
       "      <th>budget_currencycode</th>\n",
       "      <th>KPI</th>\n",
       "      <th>pricing_model</th>\n",
       "      <th>geo_targeting</th>\n",
       "      <th>vertical</th>\n",
       "      <th>targeting</th>\n",
       "      <th>game_key</th>\n",
       "      <th>adformat</th>\n",
       "      <th>...</th>\n",
       "      <th>renderingcontext</th>\n",
       "      <th>osfamily</th>\n",
       "      <th>devicetype</th>\n",
       "      <th>devicemake</th>\n",
       "      <th>site_name</th>\n",
       "      <th>matchedfoldposition</th>\n",
       "      <th>browser</th>\n",
       "      <th>impression</th>\n",
       "      <th>engagement</th>\n",
       "      <th>click</th>\n",
       "    </tr>\n",
       "  </thead>\n",
       "  <tbody>\n",
       "    <tr>\n",
       "      <th>0</th>\n",
       "      <td>f4p5a01</td>\n",
       "      <td>277.12</td>\n",
       "      <td>USD</td>\n",
       "      <td>Engagement</td>\n",
       "      <td>CPE</td>\n",
       "      <td>NaN</td>\n",
       "      <td>Sports</td>\n",
       "      <td>Opinion Leaders| Investors| Policy Makers| C&amp;I...</td>\n",
       "      <td>b4f31c796c130fd594d253ba9336a01d/7ae9931edb2ed...</td>\n",
       "      <td>320x480</td>\n",
       "      <td>...</td>\n",
       "      <td>MobileOptimizedWeb</td>\n",
       "      <td>6.0</td>\n",
       "      <td>3.0</td>\n",
       "      <td>Samsung</td>\n",
       "      <td>www.yahoo.com</td>\n",
       "      <td>4.0</td>\n",
       "      <td>Chrome</td>\n",
       "      <td>57.0</td>\n",
       "      <td>0.0</td>\n",
       "      <td>0.0</td>\n",
       "    </tr>\n",
       "    <tr>\n",
       "      <th>1</th>\n",
       "      <td>f4p5a01</td>\n",
       "      <td>277.12</td>\n",
       "      <td>USD</td>\n",
       "      <td>Engagement</td>\n",
       "      <td>CPE</td>\n",
       "      <td>NaN</td>\n",
       "      <td>Sports</td>\n",
       "      <td>Opinion Leaders| Investors| Policy Makers| C&amp;I...</td>\n",
       "      <td>b4f31c796c130fd594d253ba9336a01d/7ae9931edb2ed...</td>\n",
       "      <td>320x480</td>\n",
       "      <td>...</td>\n",
       "      <td>MobileOptimizedWeb</td>\n",
       "      <td>5.0</td>\n",
       "      <td>4.0</td>\n",
       "      <td>Apple</td>\n",
       "      <td>www.yahoo.com</td>\n",
       "      <td>4.0</td>\n",
       "      <td>Mobile Safari</td>\n",
       "      <td>983.0</td>\n",
       "      <td>265.0</td>\n",
       "      <td>71.0</td>\n",
       "    </tr>\n",
       "    <tr>\n",
       "      <th>2</th>\n",
       "      <td>f4p5a01</td>\n",
       "      <td>277.12</td>\n",
       "      <td>USD</td>\n",
       "      <td>Engagement</td>\n",
       "      <td>CPE</td>\n",
       "      <td>NaN</td>\n",
       "      <td>Sports</td>\n",
       "      <td>Opinion Leaders| Investors| Policy Makers| C&amp;I...</td>\n",
       "      <td>b4f31c796c130fd594d253ba9336a01d/7ae9931edb2ed...</td>\n",
       "      <td>320x480</td>\n",
       "      <td>...</td>\n",
       "      <td>MobileOptimizedWeb</td>\n",
       "      <td>6.0</td>\n",
       "      <td>4.0</td>\n",
       "      <td>Samsung</td>\n",
       "      <td>www.yahoo.com</td>\n",
       "      <td>4.0</td>\n",
       "      <td>Chrome</td>\n",
       "      <td>9.0</td>\n",
       "      <td>0.0</td>\n",
       "      <td>0.0</td>\n",
       "    </tr>\n",
       "    <tr>\n",
       "      <th>3</th>\n",
       "      <td>f4p5a01</td>\n",
       "      <td>277.12</td>\n",
       "      <td>USD</td>\n",
       "      <td>Engagement</td>\n",
       "      <td>CPE</td>\n",
       "      <td>NaN</td>\n",
       "      <td>Sports</td>\n",
       "      <td>Opinion Leaders| Investors| Policy Makers| C&amp;I...</td>\n",
       "      <td>b4f31c796c130fd594d253ba9336a01d/7ae9931edb2ed...</td>\n",
       "      <td>320x480</td>\n",
       "      <td>...</td>\n",
       "      <td>MobileOptimizedWeb</td>\n",
       "      <td>5.0</td>\n",
       "      <td>4.0</td>\n",
       "      <td>Apple</td>\n",
       "      <td>www.the-sun.com</td>\n",
       "      <td>4.0</td>\n",
       "      <td>Mobile Safari UI/WKWebView</td>\n",
       "      <td>3.0</td>\n",
       "      <td>0.0</td>\n",
       "      <td>0.0</td>\n",
       "    </tr>\n",
       "    <tr>\n",
       "      <th>4</th>\n",
       "      <td>f4p5a01</td>\n",
       "      <td>277.12</td>\n",
       "      <td>USD</td>\n",
       "      <td>Engagement</td>\n",
       "      <td>CPE</td>\n",
       "      <td>NaN</td>\n",
       "      <td>Sports</td>\n",
       "      <td>Opinion Leaders| Investors| Policy Makers| C&amp;I...</td>\n",
       "      <td>b4f31c796c130fd594d253ba9336a01d/7ae9931edb2ed...</td>\n",
       "      <td>320x480</td>\n",
       "      <td>...</td>\n",
       "      <td>MobileOptimizedWeb</td>\n",
       "      <td>6.0</td>\n",
       "      <td>4.0</td>\n",
       "      <td>Samsung</td>\n",
       "      <td>currently.att.yahoo.com</td>\n",
       "      <td>4.0</td>\n",
       "      <td>Chrome Mobile</td>\n",
       "      <td>27.0</td>\n",
       "      <td>3.0</td>\n",
       "      <td>0.0</td>\n",
       "    </tr>\n",
       "  </tbody>\n",
       "</table>\n",
       "<p>5 rows × 21 columns</p>\n",
       "</div>"
      ],
      "text/plain": [
       "  campaign_id  budget_amount budget_currencycode         KPI pricing_model  \\\n",
       "0     f4p5a01         277.12                 USD  Engagement           CPE   \n",
       "1     f4p5a01         277.12                 USD  Engagement           CPE   \n",
       "2     f4p5a01         277.12                 USD  Engagement           CPE   \n",
       "3     f4p5a01         277.12                 USD  Engagement           CPE   \n",
       "4     f4p5a01         277.12                 USD  Engagement           CPE   \n",
       "\n",
       "  geo_targeting vertical                                          targeting  \\\n",
       "0           NaN   Sports  Opinion Leaders| Investors| Policy Makers| C&I...   \n",
       "1           NaN   Sports  Opinion Leaders| Investors| Policy Makers| C&I...   \n",
       "2           NaN   Sports  Opinion Leaders| Investors| Policy Makers| C&I...   \n",
       "3           NaN   Sports  Opinion Leaders| Investors| Policy Makers| C&I...   \n",
       "4           NaN   Sports  Opinion Leaders| Investors| Policy Makers| C&I...   \n",
       "\n",
       "                                            game_key adformat  ...  \\\n",
       "0  b4f31c796c130fd594d253ba9336a01d/7ae9931edb2ed...  320x480  ...   \n",
       "1  b4f31c796c130fd594d253ba9336a01d/7ae9931edb2ed...  320x480  ...   \n",
       "2  b4f31c796c130fd594d253ba9336a01d/7ae9931edb2ed...  320x480  ...   \n",
       "3  b4f31c796c130fd594d253ba9336a01d/7ae9931edb2ed...  320x480  ...   \n",
       "4  b4f31c796c130fd594d253ba9336a01d/7ae9931edb2ed...  320x480  ...   \n",
       "\n",
       "     renderingcontext osfamily  devicetype  devicemake  \\\n",
       "0  MobileOptimizedWeb      6.0         3.0     Samsung   \n",
       "1  MobileOptimizedWeb      5.0         4.0       Apple   \n",
       "2  MobileOptimizedWeb      6.0         4.0     Samsung   \n",
       "3  MobileOptimizedWeb      5.0         4.0       Apple   \n",
       "4  MobileOptimizedWeb      6.0         4.0     Samsung   \n",
       "\n",
       "                 site_name matchedfoldposition                     browser  \\\n",
       "0            www.yahoo.com                 4.0                      Chrome   \n",
       "1            www.yahoo.com                 4.0               Mobile Safari   \n",
       "2            www.yahoo.com                 4.0                      Chrome   \n",
       "3          www.the-sun.com                 4.0  Mobile Safari UI/WKWebView   \n",
       "4  currently.att.yahoo.com                 4.0               Chrome Mobile   \n",
       "\n",
       "  impression  engagement  click  \n",
       "0       57.0         0.0    0.0  \n",
       "1      983.0       265.0   71.0  \n",
       "2        9.0         0.0    0.0  \n",
       "3        3.0         0.0    0.0  \n",
       "4       27.0         3.0    0.0  \n",
       "\n",
       "[5 rows x 21 columns]"
      ]
     },
     "execution_count": 4,
     "metadata": {},
     "output_type": "execute_result"
    }
   ],
   "source": [
    "# Merge the dataframes based on common columns\n",
    "merged_df = pd.merge(campaign_df, creative_df, on='campaign_id', how='left')\n",
    "merged_df = pd.merge(merged_df, inventory_df, on=['campaign_id', 'game_key'], how='left')\n",
    "\n",
    "merged_df.head()"
   ]
  },
  {
   "cell_type": "markdown",
   "metadata": {},
   "source": [
    "#### Remove rows that have a campaign but no inventory"
   ]
  },
  {
   "cell_type": "code",
   "execution_count": 5,
   "metadata": {},
   "outputs": [],
   "source": [
    "merged_df = merged_df[~merged_df['campaign_id'].isin(campaign_df[~campaign_df['campaign_id'].isin(inventory_df['campaign_id'])]['campaign_id'])]"
   ]
  },
  {
   "cell_type": "markdown",
   "metadata": {},
   "source": [
    "#### Compute click through rate"
   ]
  },
  {
   "cell_type": "code",
   "execution_count": 6,
   "metadata": {},
   "outputs": [],
   "source": [
    "merged_df['CTR'] = np.where(merged_df['impression'] != 0,\n",
    "                            (merged_df['click'] / merged_df['impression']) * 100,\n",
    "                            0)"
   ]
  },
  {
   "cell_type": "markdown",
   "metadata": {},
   "source": [
    "#### Mapping of number to value for 3 colums"
   ]
  },
  {
   "cell_type": "code",
   "execution_count": 7,
   "metadata": {},
   "outputs": [],
   "source": [
    "os_family_mapping = { 1: \"Other\", 2: \"Windows\",  3: \"OS X\",  4: \"Linux\",  5: \"iOS\", 6: \"Android\",  7: \"Windows Phone\"}\n",
    "device_type_mapping = { 1: \"Other\",2: \"PC\", 3: \"Tablet\", 4: \"Mobile\", 5: \"Roku\", 6: \"ConnectedTV\", 7: \"OutOfHome\", 8: \"HomeAssistant\"}\n",
    "foldposition_mapping = {1: \"Any\", 2: \"Above\", 3: \"Below\", 4: \"Unknown\"}\n",
    "\n",
    "merged_df[\"osfamily\"] = merged_df[\"osfamily\"].map(os_family_mapping)\n",
    "merged_df[\"devicetype\"] = merged_df[\"devicetype\"].map(device_type_mapping)\n",
    "merged_df[\"matchedfoldposition\"] = merged_df[\"matchedfoldposition\"].map( foldposition_mapping)"
   ]
  },
  {
   "cell_type": "markdown",
   "metadata": {},
   "source": [
    "#### Remove Uncessary columns"
   ]
  },
  {
   "cell_type": "code",
   "execution_count": 8,
   "metadata": {},
   "outputs": [
    {
     "data": {
      "text/plain": [
       "Index(['campaign_id', 'budget_amount', 'budget_currencycode', 'KPI',\n",
       "       'pricing_model', 'geo_targeting', 'vertical', 'targeting', 'game_key',\n",
       "       'adformat', 'creative', 'renderingcontext', 'osfamily', 'devicetype',\n",
       "       'devicemake', 'site_name', 'matchedfoldposition', 'browser',\n",
       "       'impression', 'engagement', 'click', 'CTR'],\n",
       "      dtype='object')"
      ]
     },
     "execution_count": 8,
     "metadata": {},
     "output_type": "execute_result"
    }
   ],
   "source": [
    "merged_df.columns"
   ]
  },
  {
   "cell_type": "code",
   "execution_count": 9,
   "metadata": {},
   "outputs": [],
   "source": [
    "merged_df = merged_df.drop(columns=['campaign_id', \"budget_amount\", \"budget_currencycode\", \"KPI\", \"pricing_model\", \"game_key\", \"impression\", \"engagement\", \"click\"])"
   ]
  },
  {
   "cell_type": "code",
   "execution_count": 10,
   "metadata": {},
   "outputs": [
    {
     "data": {
      "text/plain": [
       "Index(['geo_targeting', 'vertical', 'targeting', 'adformat', 'creative',\n",
       "       'renderingcontext', 'osfamily', 'devicetype', 'devicemake', 'site_name',\n",
       "       'matchedfoldposition', 'browser', 'CTR'],\n",
       "      dtype='object')"
      ]
     },
     "execution_count": 10,
     "metadata": {},
     "output_type": "execute_result"
    }
   ],
   "source": [
    "merged_df.columns"
   ]
  },
  {
   "cell_type": "markdown",
   "metadata": {},
   "source": [
    "#### Handling Missing Data "
   ]
  },
  {
   "cell_type": "code",
   "execution_count": 11,
   "metadata": {},
   "outputs": [
    {
     "name": "stdout",
     "output_type": "stream",
     "text": [
      "geo_targeting          91.161239\n",
      "vertical                0.000000\n",
      "targeting              81.240472\n",
      "adformat                0.000000\n",
      "creative                2.900846\n",
      "renderingcontext        0.000000\n",
      "osfamily                0.003899\n",
      "devicetype              0.000101\n",
      "devicemake              1.916644\n",
      "site_name               0.000000\n",
      "matchedfoldposition     0.000067\n",
      "browser                 0.091890\n",
      "CTR                     0.000000\n",
      "dtype: float64\n"
     ]
    }
   ],
   "source": [
    "# Calculate the percentage of missing values in each column\n",
    "missing_percentage = merged_df.isnull().sum() / len(merged_df) * 100\n",
    "\n",
    "# Print the percentage of missing values for each column\n",
    "print(missing_percentage)"
   ]
  },
  {
   "cell_type": "code",
   "execution_count": 12,
   "metadata": {},
   "outputs": [],
   "source": [
    "merged_df['geo_targeting'].fillna(value=\"Unknown\", inplace=True)\n",
    "merged_df['targeting'].fillna(value=\"Unknown\", inplace=True)\n",
    "merged_df['creative'].fillna(value=\"Unknown\", inplace=True)\n",
    "\n",
    "merged_df['browser'].fillna(value=merged_df['browser'].mode()[0], inplace=True)\n",
    "merged_df['devicemake'].fillna(value=merged_df['devicemake'].mode()[0], inplace=True)\n",
    "merged_df['devicetype'].fillna(value=merged_df['devicetype'].mode()[0], inplace=True)\n",
    "merged_df['matchedfoldposition'].fillna(value=merged_df['matchedfoldposition'].mode()[0], inplace=True)\n",
    "merged_df['osfamily'].fillna(value=merged_df['osfamily'].mode()[0], inplace=True)"
   ]
  },
  {
   "cell_type": "code",
   "execution_count": 13,
   "metadata": {},
   "outputs": [],
   "source": [
    "sample_df = merged_df.iloc[:, :]"
   ]
  },
  {
   "cell_type": "code",
   "execution_count": 58,
   "metadata": {},
   "outputs": [
    {
     "data": {
      "text/plain": [
       "(2975304, 13)"
      ]
     },
     "execution_count": 58,
     "metadata": {},
     "output_type": "execute_result"
    }
   ],
   "source": [
    "sample_df.shape"
   ]
  },
  {
   "cell_type": "markdown",
   "metadata": {},
   "source": [
    "#### Model Training"
   ]
  },
  {
   "cell_type": "code",
   "execution_count": 59,
   "metadata": {},
   "outputs": [],
   "source": [
    "# Optional: Encode categorical variables if they're not numerically encoded\n",
    "# It's important for algorithms like XGBoost that expect numerical input\n",
    "encoder = OrdinalEncoder(cols=['geo_targeting', 'vertical', 'targeting', 'adformat', 'creative',\n",
    "                               'renderingcontext', 'osfamily', 'devicetype', 'devicemake', \n",
    "                               'site_name', 'matchedfoldposition', 'browser'])\n",
    "merged_df_encoded = encoder.fit_transform(sample_df)\n",
    "\n"
   ]
  },
  {
   "cell_type": "code",
   "execution_count": 60,
   "metadata": {},
   "outputs": [],
   "source": [
    "# Split data into features and target\n",
    "X = merged_df_encoded.drop('CTR', axis=1)\n",
    "y = merged_df_encoded['CTR']\n",
    "\n",
    "# Split data into training and testing sets\n",
    "X_train, X_test, y_train, y_test = train_test_split(X, y, test_size=0.2, random_state=42)\n"
   ]
  },
  {
   "cell_type": "code",
   "execution_count": 61,
   "metadata": {},
   "outputs": [],
   "source": [
    "# Initialize XGBoost regressor\n",
    "# Note: You might need to tweak hyperparameters based on your specific dataset characteristics\n",
    "model = xgb.XGBRegressor(objective ='reg:squarederror', colsample_bytree = 0.3, learning_rate = 0.1,\n",
    "                max_depth = 5, alpha = 10, n_estimators = 100)"
   ]
  },
  {
   "cell_type": "code",
   "execution_count": 62,
   "metadata": {},
   "outputs": [
    {
     "data": {
      "text/html": [
       "<style>#sk-container-id-4 {color: black;}#sk-container-id-4 pre{padding: 0;}#sk-container-id-4 div.sk-toggleable {background-color: white;}#sk-container-id-4 label.sk-toggleable__label {cursor: pointer;display: block;width: 100%;margin-bottom: 0;padding: 0.3em;box-sizing: border-box;text-align: center;}#sk-container-id-4 label.sk-toggleable__label-arrow:before {content: \"▸\";float: left;margin-right: 0.25em;color: #696969;}#sk-container-id-4 label.sk-toggleable__label-arrow:hover:before {color: black;}#sk-container-id-4 div.sk-estimator:hover label.sk-toggleable__label-arrow:before {color: black;}#sk-container-id-4 div.sk-toggleable__content {max-height: 0;max-width: 0;overflow: hidden;text-align: left;background-color: #f0f8ff;}#sk-container-id-4 div.sk-toggleable__content pre {margin: 0.2em;color: black;border-radius: 0.25em;background-color: #f0f8ff;}#sk-container-id-4 input.sk-toggleable__control:checked~div.sk-toggleable__content {max-height: 200px;max-width: 100%;overflow: auto;}#sk-container-id-4 input.sk-toggleable__control:checked~label.sk-toggleable__label-arrow:before {content: \"▾\";}#sk-container-id-4 div.sk-estimator input.sk-toggleable__control:checked~label.sk-toggleable__label {background-color: #d4ebff;}#sk-container-id-4 div.sk-label input.sk-toggleable__control:checked~label.sk-toggleable__label {background-color: #d4ebff;}#sk-container-id-4 input.sk-hidden--visually {border: 0;clip: rect(1px 1px 1px 1px);clip: rect(1px, 1px, 1px, 1px);height: 1px;margin: -1px;overflow: hidden;padding: 0;position: absolute;width: 1px;}#sk-container-id-4 div.sk-estimator {font-family: monospace;background-color: #f0f8ff;border: 1px dotted black;border-radius: 0.25em;box-sizing: border-box;margin-bottom: 0.5em;}#sk-container-id-4 div.sk-estimator:hover {background-color: #d4ebff;}#sk-container-id-4 div.sk-parallel-item::after {content: \"\";width: 100%;border-bottom: 1px solid gray;flex-grow: 1;}#sk-container-id-4 div.sk-label:hover label.sk-toggleable__label {background-color: #d4ebff;}#sk-container-id-4 div.sk-serial::before {content: \"\";position: absolute;border-left: 1px solid gray;box-sizing: border-box;top: 0;bottom: 0;left: 50%;z-index: 0;}#sk-container-id-4 div.sk-serial {display: flex;flex-direction: column;align-items: center;background-color: white;padding-right: 0.2em;padding-left: 0.2em;position: relative;}#sk-container-id-4 div.sk-item {position: relative;z-index: 1;}#sk-container-id-4 div.sk-parallel {display: flex;align-items: stretch;justify-content: center;background-color: white;position: relative;}#sk-container-id-4 div.sk-item::before, #sk-container-id-4 div.sk-parallel-item::before {content: \"\";position: absolute;border-left: 1px solid gray;box-sizing: border-box;top: 0;bottom: 0;left: 50%;z-index: -1;}#sk-container-id-4 div.sk-parallel-item {display: flex;flex-direction: column;z-index: 1;position: relative;background-color: white;}#sk-container-id-4 div.sk-parallel-item:first-child::after {align-self: flex-end;width: 50%;}#sk-container-id-4 div.sk-parallel-item:last-child::after {align-self: flex-start;width: 50%;}#sk-container-id-4 div.sk-parallel-item:only-child::after {width: 0;}#sk-container-id-4 div.sk-dashed-wrapped {border: 1px dashed gray;margin: 0 0.4em 0.5em 0.4em;box-sizing: border-box;padding-bottom: 0.4em;background-color: white;}#sk-container-id-4 div.sk-label label {font-family: monospace;font-weight: bold;display: inline-block;line-height: 1.2em;}#sk-container-id-4 div.sk-label-container {text-align: center;}#sk-container-id-4 div.sk-container {/* jupyter's `normalize.less` sets `[hidden] { display: none; }` but bootstrap.min.css set `[hidden] { display: none !important; }` so we also need the `!important` here to be able to override the default hidden behavior on the sphinx rendered scikit-learn.org. See: https://github.com/scikit-learn/scikit-learn/issues/21755 */display: inline-block !important;position: relative;}#sk-container-id-4 div.sk-text-repr-fallback {display: none;}</style><div id=\"sk-container-id-4\" class=\"sk-top-container\"><div class=\"sk-text-repr-fallback\"><pre>XGBRegressor(alpha=10, base_score=None, booster=None, callbacks=None,\n",
       "             colsample_bylevel=None, colsample_bynode=None,\n",
       "             colsample_bytree=0.3, device=None, early_stopping_rounds=None,\n",
       "             enable_categorical=False, eval_metric=None, feature_types=None,\n",
       "             gamma=None, grow_policy=None, importance_type=None,\n",
       "             interaction_constraints=None, learning_rate=0.1, max_bin=None,\n",
       "             max_cat_threshold=None, max_cat_to_onehot=None,\n",
       "             max_delta_step=None, max_depth=5, max_leaves=None,\n",
       "             min_child_weight=None, missing=nan, monotone_constraints=None,\n",
       "             multi_strategy=None, n_estimators=100, n_jobs=None,\n",
       "             num_parallel_tree=None, ...)</pre><b>In a Jupyter environment, please rerun this cell to show the HTML representation or trust the notebook. <br />On GitHub, the HTML representation is unable to render, please try loading this page with nbviewer.org.</b></div><div class=\"sk-container\" hidden><div class=\"sk-item\"><div class=\"sk-estimator sk-toggleable\"><input class=\"sk-toggleable__control sk-hidden--visually\" id=\"sk-estimator-id-4\" type=\"checkbox\" checked><label for=\"sk-estimator-id-4\" class=\"sk-toggleable__label sk-toggleable__label-arrow\">XGBRegressor</label><div class=\"sk-toggleable__content\"><pre>XGBRegressor(alpha=10, base_score=None, booster=None, callbacks=None,\n",
       "             colsample_bylevel=None, colsample_bynode=None,\n",
       "             colsample_bytree=0.3, device=None, early_stopping_rounds=None,\n",
       "             enable_categorical=False, eval_metric=None, feature_types=None,\n",
       "             gamma=None, grow_policy=None, importance_type=None,\n",
       "             interaction_constraints=None, learning_rate=0.1, max_bin=None,\n",
       "             max_cat_threshold=None, max_cat_to_onehot=None,\n",
       "             max_delta_step=None, max_depth=5, max_leaves=None,\n",
       "             min_child_weight=None, missing=nan, monotone_constraints=None,\n",
       "             multi_strategy=None, n_estimators=100, n_jobs=None,\n",
       "             num_parallel_tree=None, ...)</pre></div></div></div></div></div>"
      ],
      "text/plain": [
       "XGBRegressor(alpha=10, base_score=None, booster=None, callbacks=None,\n",
       "             colsample_bylevel=None, colsample_bynode=None,\n",
       "             colsample_bytree=0.3, device=None, early_stopping_rounds=None,\n",
       "             enable_categorical=False, eval_metric=None, feature_types=None,\n",
       "             gamma=None, grow_policy=None, importance_type=None,\n",
       "             interaction_constraints=None, learning_rate=0.1, max_bin=None,\n",
       "             max_cat_threshold=None, max_cat_to_onehot=None,\n",
       "             max_delta_step=None, max_depth=5, max_leaves=None,\n",
       "             min_child_weight=None, missing=nan, monotone_constraints=None,\n",
       "             multi_strategy=None, n_estimators=100, n_jobs=None,\n",
       "             num_parallel_tree=None, ...)"
      ]
     },
     "execution_count": 62,
     "metadata": {},
     "output_type": "execute_result"
    }
   ],
   "source": [
    "# Train the model\n",
    "model.fit(X_train, y_train)"
   ]
  },
  {
   "cell_type": "code",
   "execution_count": 63,
   "metadata": {},
   "outputs": [],
   "source": [
    "# Predict CTR for the test set\n",
    "predictions = model.predict(X_test)"
   ]
  },
  {
   "cell_type": "code",
   "execution_count": 64,
   "metadata": {},
   "outputs": [
    {
     "name": "stdout",
     "output_type": "stream",
     "text": [
      "RMSE: 15.366780\n"
     ]
    }
   ],
   "source": [
    "# Evaluate the model\n",
    "rmse = mean_squared_error(y_test, predictions, squared=False)  # Set squared=False for RMSE\n",
    "print(\"RMSE: %f\" % (rmse))"
   ]
  },
  {
   "cell_type": "markdown",
   "metadata": {},
   "source": [
    "#### Hello"
   ]
  },
  {
   "cell_type": "code",
   "execution_count": 73,
   "metadata": {},
   "outputs": [
    {
     "data": {
      "text/plain": [
       "Index(['geo_targeting', 'vertical', 'targeting', 'adformat', 'creative',\n",
       "       'renderingcontext', 'osfamily', 'devicetype', 'devicemake', 'site_name',\n",
       "       'matchedfoldposition', 'browser', 'CTR'],\n",
       "      dtype='object')"
      ]
     },
     "execution_count": 73,
     "metadata": {},
     "output_type": "execute_result"
    }
   ],
   "source": [
    "merged_df.columns"
   ]
  },
  {
   "cell_type": "code",
   "execution_count": 74,
   "metadata": {},
   "outputs": [
    {
     "data": {
      "text/plain": [
       "geo_targeting           object\n",
       "vertical                object\n",
       "targeting               object\n",
       "adformat                object\n",
       "creative                object\n",
       "renderingcontext        object\n",
       "osfamily                object\n",
       "devicetype              object\n",
       "devicemake              object\n",
       "site_name               object\n",
       "matchedfoldposition     object\n",
       "browser                 object\n",
       "CTR                    float64\n",
       "dtype: object"
      ]
     },
     "execution_count": 74,
     "metadata": {},
     "output_type": "execute_result"
    }
   ],
   "source": [
    "merged_df.dtypes"
   ]
  },
  {
   "cell_type": "code",
   "execution_count": 65,
   "metadata": {},
   "outputs": [],
   "source": [
    "from sklearn.ensemble import RandomForestRegressor\n",
    "from sklearn.metrics import mean_squared_error\n",
    "from sklearn.preprocessing import OneHotEncoder\n",
    "from sklearn.compose import ColumnTransformer\n",
    "from sklearn.pipeline import Pipeline\n",
    "\n",
    "# Assuming merged_df is your DataFrame\n",
    "\n",
    "# Define categorical columns\n",
    "categorical_columns = ['matchedfoldposition', 'devicetype', 'osfamily']\n",
    "\n",
    "# Map categorical columns to their categories\n",
    "categories = {\n",
    "    'matchedfoldposition': ['Any', 'Above', 'Below', 'Unknown'],\n",
    "    'devicetype': ['Other', 'PC', 'Tablet', 'Mobile', 'Roku', 'ConnectedTV', 'OutOfHome', 'HomeAssistant'],\n",
    "    'osfamily': ['Other', 'Windows', 'OS X', 'Linux', 'iOS', 'Android', 'Windows Phone']\n",
    "}\n",
    "\n",
    "# Preprocessing for categorical data\n",
    "categorical_preprocessor = OneHotEncoder(categories=[categories[col] for col in categorical_columns])\n",
    "\n",
    "# Bundle preprocessing for numerical and categorical data\n",
    "preprocessor = ColumnTransformer(\n",
    "    transformers=[\n",
    "        ('cat', categorical_preprocessor, categorical_columns)\n",
    "    ], remainder='passthrough')"
   ]
  },
  {
   "cell_type": "code",
   "execution_count": 70,
   "metadata": {},
   "outputs": [],
   "source": [
    "# Define the model\n",
    "model = RandomForestRegressor(n_estimators=100, random_state=42)\n",
    "\n",
    "# Bundle preprocessing and modeling code in a pipeline\n",
    "clf = Pipeline(steps=[\n",
    "                      ('model', model)])"
   ]
  },
  {
   "cell_type": "code",
   "execution_count": 71,
   "metadata": {},
   "outputs": [],
   "source": [
    "# Separate target from predictors\n",
    "X = merged_df.drop('CTR', axis=1)\n",
    "y = merged_df['CTR']\n",
    "\n",
    "# Split data into training and test sets\n",
    "X_train, X_test, y_train, y_test = train_test_split(X, y, test_size=0.2, random_state=42)\n"
   ]
  },
  {
   "cell_type": "code",
   "execution_count": null,
   "metadata": {},
   "outputs": [],
   "source": [
    "# Preprocessing of training data, fit model \n",
    "clf.fit(X_train, y_train)"
   ]
  },
  {
   "cell_type": "code",
   "execution_count": 32,
   "metadata": {},
   "outputs": [],
   "source": [
    "sample_df = merged_df.iloc[:, :]"
   ]
  },
  {
   "cell_type": "code",
   "execution_count": 38,
   "metadata": {},
   "outputs": [
    {
     "data": {
      "text/plain": [
       "geo_targeting    object\n",
       "dtype: object"
      ]
     },
     "execution_count": 38,
     "metadata": {},
     "output_type": "execute_result"
    }
   ],
   "source": [
    "sample_df.iloc[:1,:1].dtypes"
   ]
  },
  {
   "cell_type": "code",
   "execution_count": 47,
   "metadata": {},
   "outputs": [],
   "source": [
    "import pandas as pd\n",
    "from sklearn.model_selection import train_test_split\n",
    "from sklearn.ensemble import RandomForestRegressor\n",
    "from sklearn.metrics import mean_squared_error\n",
    "from sklearn.pipeline import Pipeline\n",
    "from sklearn.compose import ColumnTransformer\n",
    "from sklearn.preprocessing import OneHotEncoder\n",
    "\n",
    "# Assuming 'merged_df' is your DataFrame and 'CTR' is your target\n",
    "\n",
    "# Splitting features and target\n",
    "X = sample_df.drop(['CTR'], axis=1)\n",
    "y = sample_df['CTR']\n",
    "\n",
    "# Identifying categorical columns (excluding target variable 'CTR')\n",
    "categorical_cols = [\"matchedfoldposition\", \"devicetype\", \"osfamily\"]\n",
    "\n",
    "# No explicit numerical features to preprocess in this dataset except the target\n",
    "# If there were numerical features, they would be listed here\n",
    "\n",
    "# Preprocessor for categorical data with OneHotEncoder\n",
    "preprocessor = ColumnTransformer(\n",
    "    transformers=[\n",
    "        ('cat', OneHotEncoder(handle_unknown='ignore'), categorical_cols)\n",
    "    ])\n"
   ]
  },
  {
   "cell_type": "code",
   "execution_count": 18,
   "metadata": {},
   "outputs": [
    {
     "name": "stdout",
     "output_type": "stream",
     "text": [
      "RMSE: 15.923724654407854\n"
     ]
    }
   ],
   "source": [
    "# Defining the model\n",
    "model = Pipeline(steps=[\n",
    "    ('preprocessor', preprocessor),\n",
    "    ('regressor', RandomForestRegressor(n_estimators=100, random_state=42))\n",
    "])\n",
    "\n",
    "# Splitting the dataset into training and testing sets\n",
    "X_train, X_test, y_train, y_test = train_test_split(X, y, test_size=0.2, random_state=42)\n",
    "\n",
    "# Training the model\n",
    "model.fit(X_train, y_train)\n",
    "\n",
    "# Predicting CTR\n",
    "predictions = model.predict(X_test)\n",
    "\n",
    "# Calculating the Root Mean Square Error (RMSE)\n",
    "rmse = mean_squared_error(y_test, predictions, squared=False)\n",
    "print(f\"RMSE: {rmse}\")\n"
   ]
  },
  {
   "cell_type": "code",
   "execution_count": 19,
   "metadata": {},
   "outputs": [
    {
     "name": "stdout",
     "output_type": "stream",
     "text": [
      "RMSE: 15.923745907743601\n"
     ]
    }
   ],
   "source": [
    "from sklearn.ensemble import GradientBoostingRegressor\n",
    "\n",
    "# Updating the model in the pipeline to GradientBoostingRegressor\n",
    "model = Pipeline(steps=[\n",
    "    ('preprocessor', preprocessor),\n",
    "    ('regressor', GradientBoostingRegressor(n_estimators=100, random_state=42))\n",
    "])\n",
    "\n",
    "# Training the model\n",
    "model.fit(X_train, y_train)\n",
    "\n",
    "# Predicting CTR\n",
    "predictions = model.predict(X_test)\n",
    "\n",
    "# Calculating the RMSE\n",
    "rmse = mean_squared_error(y_test, predictions, squared=False)\n",
    "print(f\"RMSE: {rmse}\")"
   ]
  },
  {
   "cell_type": "code",
   "execution_count": 20,
   "metadata": {},
   "outputs": [
    {
     "name": "stdout",
     "output_type": "stream",
     "text": [
      "RMSE: 15.923730551651596\n"
     ]
    }
   ],
   "source": [
    "from xgboost import XGBRegressor\n",
    "\n",
    "# Updating the model in the pipeline to XGBRegressor\n",
    "model = Pipeline(steps=[\n",
    "    ('preprocessor', preprocessor),\n",
    "    ('regressor', XGBRegressor(objective='reg:squarederror', n_estimators=100, learning_rate=0.1, random_state=42))\n",
    "])\n",
    "\n",
    "# Training the model\n",
    "model.fit(X_train, y_train)\n",
    "\n",
    "# Predicting CTR\n",
    "predictions = model.predict(X_test)\n",
    "\n",
    "# Calculating the RMSE\n",
    "rmse = mean_squared_error(y_test, predictions, squared=False)\n",
    "print(f\"RMSE: {rmse}\")"
   ]
  },
  {
   "cell_type": "code",
   "execution_count": 22,
   "metadata": {},
   "outputs": [
    {
     "name": "stdout",
     "output_type": "stream",
     "text": [
      "[LightGBM] [Info] Auto-choosing row-wise multi-threading, the overhead of testing was 0.082810 seconds.\n",
      "You can set `force_row_wise=true` to remove the overhead.\n",
      "And if memory is not enough, you can set `force_col_wise=true`.\n",
      "[LightGBM] [Info] Total Bins 28\n",
      "[LightGBM] [Info] Number of data points in the train set: 2380243, number of used features: 14\n",
      "[LightGBM] [Info] Start training from score 3.819118\n",
      "RMSE: 15.92369691961791\n"
     ]
    }
   ],
   "source": [
    "from lightgbm import LGBMRegressor\n",
    "\n",
    "# Define a new model pipeline with LightGBM\n",
    "model = Pipeline(steps=[\n",
    "    ('preprocessor', preprocessor),\n",
    "    ('regressor', LGBMRegressor(objective='regression', num_leaves=31, learning_rate=0.05, n_estimators=100, random_state=42))\n",
    "])\n",
    "\n",
    "# Splitting the dataset (ensure X and y are already defined as per your dataset)\n",
    "X_train, X_test, y_train, y_test = train_test_split(X, y, test_size=0.2, random_state=42)\n",
    "\n",
    "# Training the model\n",
    "model.fit(X_train, y_train)\n",
    "\n",
    "# Predicting and evaluating\n",
    "predictions = model.predict(X_test)\n",
    "rmse = mean_squared_error(y_test, predictions, squared=False)\n",
    "print(f\"RMSE: {rmse}\")"
   ]
  },
  {
   "cell_type": "code",
   "execution_count": 48,
   "metadata": {},
   "outputs": [],
   "source": [
    "from sklearn.compose import ColumnTransformer\n",
    "from sklearn.preprocessing import OneHotEncoder\n",
    "from sklearn.pipeline import Pipeline\n",
    "import numpy as np\n",
    "\n",
    "# Assuming 'categorical_cols' contains the names of your categorical columns\n",
    "# And 'X' and 'y' have been defined\n",
    "\n",
    "# Setup the preprocessing steps\n",
    "preprocessor = ColumnTransformer(\n",
    "    transformers=[\n",
    "        ('cat', OneHotEncoder(handle_unknown='ignore'), categorical_cols)\n",
    "    ], remainder='passthrough')\n",
    "\n",
    "# Apply preprocessing to create a transformed feature matrix\n",
    "X_transformed = preprocessor.fit_transform(X)\n",
    "\n",
    "# Since we've now transformed X, we need to split again after preprocessing\n",
    "X_train, X_test, y_train, y_test = train_test_split(X_transformed, y, test_size=0.2, random_state=42)\n",
    "\n",
    "# Now, build, compile, and fit your model as before, using the transformed X_train\n"
   ]
  },
  {
   "cell_type": "code",
   "execution_count": 49,
   "metadata": {},
   "outputs": [
    {
     "name": "stdout",
     "output_type": "stream",
     "text": [
      "Model: \"sequential_3\"\n",
      "_________________________________________________________________\n",
      " Layer (type)                Output Shape              Param #   \n",
      "=================================================================\n",
      " dense_9 (Dense)             (None, 64)                1536      \n",
      "                                                                 \n",
      " dense_10 (Dense)            (None, 64)                4160      \n",
      "                                                                 \n",
      " dense_11 (Dense)            (None, 1)                 65        \n",
      "                                                                 \n",
      "=================================================================\n",
      "Total params: 5761 (22.50 KB)\n"
     ]
    },
    {
     "name": "stdout",
     "output_type": "stream",
     "text": [
      "Trainable params: 5761 (22.50 KB)\n",
      "Non-trainable params: 0 (0.00 Byte)\n",
      "_________________________________________________________________\n"
     ]
    },
    {
     "ename": "ValueError",
     "evalue": "Failed to convert a NumPy array to a Tensor (Unsupported object type float).",
     "output_type": "error",
     "traceback": [
      "\u001b[0;31m---------------------------------------------------------------------------\u001b[0m",
      "\u001b[0;31mValueError\u001b[0m                                Traceback (most recent call last)",
      "Cell \u001b[0;32mIn[49], line 36\u001b[0m\n\u001b[1;32m     33\u001b[0m \u001b[38;5;66;03m# Train the model\u001b[39;00m\n\u001b[1;32m     34\u001b[0m EPOCHS \u001b[38;5;241m=\u001b[39m \u001b[38;5;241m100\u001b[39m\n\u001b[0;32m---> 36\u001b[0m history \u001b[38;5;241m=\u001b[39m \u001b[43mmodel\u001b[49m\u001b[38;5;241;43m.\u001b[39;49m\u001b[43mfit\u001b[49m\u001b[43m(\u001b[49m\n\u001b[1;32m     37\u001b[0m \u001b[43m    \u001b[49m\u001b[43mX_train\u001b[49m\u001b[43m,\u001b[49m\u001b[43m \u001b[49m\u001b[43my_train\u001b[49m\u001b[43m,\u001b[49m\n\u001b[1;32m     38\u001b[0m \u001b[43m    \u001b[49m\u001b[43mepochs\u001b[49m\u001b[38;5;241;43m=\u001b[39;49m\u001b[43mEPOCHS\u001b[49m\u001b[43m,\u001b[49m\u001b[43m \u001b[49m\u001b[43mvalidation_split\u001b[49m\u001b[43m \u001b[49m\u001b[38;5;241;43m=\u001b[39;49m\u001b[43m \u001b[49m\u001b[38;5;241;43m0.2\u001b[39;49m\u001b[43m,\u001b[49m\u001b[43m \u001b[49m\u001b[43mverbose\u001b[49m\u001b[38;5;241;43m=\u001b[39;49m\u001b[38;5;241;43m0\u001b[39;49m\u001b[43m)\u001b[49m\n\u001b[1;32m     40\u001b[0m \u001b[38;5;66;03m# Predicting and evaluating\u001b[39;00m\n\u001b[1;32m     41\u001b[0m predictions \u001b[38;5;241m=\u001b[39m model\u001b[38;5;241m.\u001b[39mpredict(X_test)\u001b[38;5;241m.\u001b[39mflatten()\n",
      "File \u001b[0;32m~/miniconda3/envs/week10/lib/python3.8/site-packages/keras/src/utils/traceback_utils.py:70\u001b[0m, in \u001b[0;36mfilter_traceback.<locals>.error_handler\u001b[0;34m(*args, **kwargs)\u001b[0m\n\u001b[1;32m     67\u001b[0m     filtered_tb \u001b[38;5;241m=\u001b[39m _process_traceback_frames(e\u001b[38;5;241m.\u001b[39m__traceback__)\n\u001b[1;32m     68\u001b[0m     \u001b[38;5;66;03m# To get the full stack trace, call:\u001b[39;00m\n\u001b[1;32m     69\u001b[0m     \u001b[38;5;66;03m# `tf.debugging.disable_traceback_filtering()`\u001b[39;00m\n\u001b[0;32m---> 70\u001b[0m     \u001b[38;5;28;01mraise\u001b[39;00m e\u001b[38;5;241m.\u001b[39mwith_traceback(filtered_tb) \u001b[38;5;28;01mfrom\u001b[39;00m \u001b[38;5;28;01mNone\u001b[39;00m\n\u001b[1;32m     71\u001b[0m \u001b[38;5;28;01mfinally\u001b[39;00m:\n\u001b[1;32m     72\u001b[0m     \u001b[38;5;28;01mdel\u001b[39;00m filtered_tb\n",
      "File \u001b[0;32m~/miniconda3/envs/week10/lib/python3.8/site-packages/tensorflow/python/framework/constant_op.py:98\u001b[0m, in \u001b[0;36mconvert_to_eager_tensor\u001b[0;34m(value, ctx, dtype)\u001b[0m\n\u001b[1;32m     96\u001b[0m     dtype \u001b[38;5;241m=\u001b[39m dtypes\u001b[38;5;241m.\u001b[39mas_dtype(dtype)\u001b[38;5;241m.\u001b[39mas_datatype_enum\n\u001b[1;32m     97\u001b[0m ctx\u001b[38;5;241m.\u001b[39mensure_initialized()\n\u001b[0;32m---> 98\u001b[0m \u001b[38;5;28;01mreturn\u001b[39;00m \u001b[43mops\u001b[49m\u001b[38;5;241;43m.\u001b[39;49m\u001b[43mEagerTensor\u001b[49m\u001b[43m(\u001b[49m\u001b[43mvalue\u001b[49m\u001b[43m,\u001b[49m\u001b[43m \u001b[49m\u001b[43mctx\u001b[49m\u001b[38;5;241;43m.\u001b[39;49m\u001b[43mdevice_name\u001b[49m\u001b[43m,\u001b[49m\u001b[43m \u001b[49m\u001b[43mdtype\u001b[49m\u001b[43m)\u001b[49m\n",
      "\u001b[0;31mValueError\u001b[0m: Failed to convert a NumPy array to a Tensor (Unsupported object type float)."
     ]
    }
   ],
   "source": [
    "import tensorflow as tf\n",
    "from tensorflow.keras import layers\n",
    "from sklearn.preprocessing import StandardScaler\n",
    "\n",
    "# Data preprocessing\n",
    "# Standardize the numerical features (if any exist beyond 'CTR') and encode categorical features\n",
    "# For simplicity, let's continue with the preprocessed X_train, X_test, y_train, y_test you already have\n",
    "\n",
    "# Define the neural network model\n",
    "def build_model(input_shape):\n",
    "    model = tf.keras.Sequential([\n",
    "        layers.Dense(64, activation='relu', input_shape=[input_shape]),\n",
    "        layers.Dense(64, activation='relu'),\n",
    "        layers.Dense(1)  # Output layer for regression; no activation function\n",
    "    ])\n",
    "    \n",
    "    optimizer = tf.keras.optimizers.RMSprop(0.001)\n",
    "\n",
    "    model.compile(loss='mse',\n",
    "                  optimizer=optimizer,\n",
    "                  metrics=['mae', 'mse'])\n",
    "    return model\n",
    "\n",
    "# Get the number of features in the input\n",
    "input_shape = X_train.shape[1]\n",
    "\n",
    "# Build the model\n",
    "model = build_model(input_shape)\n",
    "\n",
    "# Print the model summary\n",
    "model.summary()\n",
    "\n",
    "# Train the model\n",
    "EPOCHS = 100\n",
    "\n",
    "history = model.fit(\n",
    "    X_train, y_train,\n",
    "    epochs=EPOCHS, validation_split = 0.2, verbose=0)\n",
    "\n",
    "# Predicting and evaluating\n",
    "predictions = model.predict(X_test).flatten()\n",
    "\n",
    "# Calculating the RMSE\n",
    "rmse = mean_squared_error(y_test, predictions, squared=False)\n",
    "print(f\"RMSE: {rmse}\")\n"
   ]
  },
  {
   "cell_type": "code",
   "execution_count": 50,
   "metadata": {},
   "outputs": [
    {
     "name": "stdout",
     "output_type": "stream",
     "text": [
      "(None, 23) <dtype: 'float32'>\n",
      "(None, 1) <dtype: 'float32'>\n",
      "dense_9 (None, 23) float32\n",
      "dense_10 (None, 64) float32\n",
      "dense_11 (None, 64) float32\n"
     ]
    },
    {
     "data": {
      "text/plain": [
       "[None, None, None]"
      ]
     },
     "execution_count": 50,
     "metadata": {},
     "output_type": "execute_result"
    }
   ],
   "source": [
    "[print(i.shape, i.dtype) for i in model.inputs]\n",
    "[print(o.shape, o.dtype) for o in model.outputs]\n",
    "[print(l.name, l.input_shape, l.dtype) for l in model.layers]"
   ]
  },
  {
   "cell_type": "code",
   "execution_count": 58,
   "metadata": {},
   "outputs": [
    {
     "ename": "ValueError",
     "evalue": "could not convert string to float: 'Unknown'",
     "output_type": "error",
     "traceback": [
      "\u001b[0;31m---------------------------------------------------------------------------\u001b[0m",
      "\u001b[0;31mValueError\u001b[0m                                Traceback (most recent call last)",
      "Cell \u001b[0;32mIn[58], line 1\u001b[0m\n\u001b[0;32m----> 1\u001b[0m X \u001b[38;5;241m=\u001b[39m \u001b[43mnp\u001b[49m\u001b[38;5;241;43m.\u001b[39;49m\u001b[43masarray\u001b[49m\u001b[43m(\u001b[49m\u001b[43mX\u001b[49m\u001b[43m)\u001b[49m\u001b[38;5;241;43m.\u001b[39;49m\u001b[43mastype\u001b[49m\u001b[43m(\u001b[49m\u001b[43mnp\u001b[49m\u001b[38;5;241;43m.\u001b[39;49m\u001b[43mfloat32\u001b[49m\u001b[43m)\u001b[49m\n",
      "\u001b[0;31mValueError\u001b[0m: could not convert string to float: 'Unknown'"
     ]
    }
   ],
   "source": [
    "X = np.asarray(X).astype(np.float32)"
   ]
  },
  {
   "cell_type": "code",
   "execution_count": 59,
   "metadata": {},
   "outputs": [
    {
     "data": {
      "text/html": [
       "<div>\n",
       "<style scoped>\n",
       "    .dataframe tbody tr th:only-of-type {\n",
       "        vertical-align: middle;\n",
       "    }\n",
       "\n",
       "    .dataframe tbody tr th {\n",
       "        vertical-align: top;\n",
       "    }\n",
       "\n",
       "    .dataframe thead th {\n",
       "        text-align: right;\n",
       "    }\n",
       "</style>\n",
       "<table border=\"1\" class=\"dataframe\">\n",
       "  <thead>\n",
       "    <tr style=\"text-align: right;\">\n",
       "      <th></th>\n",
       "      <th>geo_targeting</th>\n",
       "      <th>vertical</th>\n",
       "      <th>targeting</th>\n",
       "      <th>creative</th>\n",
       "      <th>renderingcontext</th>\n",
       "      <th>osfamily</th>\n",
       "      <th>devicetype</th>\n",
       "      <th>devicemake</th>\n",
       "      <th>site_name</th>\n",
       "      <th>matchedfoldposition</th>\n",
       "      <th>browser</th>\n",
       "    </tr>\n",
       "  </thead>\n",
       "  <tbody>\n",
       "    <tr>\n",
       "      <th>0</th>\n",
       "      <td>Unknown</td>\n",
       "      <td>Sports</td>\n",
       "      <td>Opinion Leaders| Investors| Policy Makers| C&amp;I...</td>\n",
       "      <td>Sensory Video</td>\n",
       "      <td>MobileOptimizedWeb</td>\n",
       "      <td>Android</td>\n",
       "      <td>Tablet</td>\n",
       "      <td>Samsung</td>\n",
       "      <td>www.yahoo.com</td>\n",
       "      <td>Unknown</td>\n",
       "      <td>Chrome</td>\n",
       "    </tr>\n",
       "    <tr>\n",
       "      <th>1</th>\n",
       "      <td>Unknown</td>\n",
       "      <td>Sports</td>\n",
       "      <td>Opinion Leaders| Investors| Policy Makers| C&amp;I...</td>\n",
       "      <td>Sensory Video</td>\n",
       "      <td>MobileOptimizedWeb</td>\n",
       "      <td>iOS</td>\n",
       "      <td>Mobile</td>\n",
       "      <td>Apple</td>\n",
       "      <td>www.yahoo.com</td>\n",
       "      <td>Unknown</td>\n",
       "      <td>Mobile Safari</td>\n",
       "    </tr>\n",
       "    <tr>\n",
       "      <th>2</th>\n",
       "      <td>Unknown</td>\n",
       "      <td>Sports</td>\n",
       "      <td>Opinion Leaders| Investors| Policy Makers| C&amp;I...</td>\n",
       "      <td>Sensory Video</td>\n",
       "      <td>MobileOptimizedWeb</td>\n",
       "      <td>Android</td>\n",
       "      <td>Mobile</td>\n",
       "      <td>Samsung</td>\n",
       "      <td>www.yahoo.com</td>\n",
       "      <td>Unknown</td>\n",
       "      <td>Chrome</td>\n",
       "    </tr>\n",
       "    <tr>\n",
       "      <th>3</th>\n",
       "      <td>Unknown</td>\n",
       "      <td>Sports</td>\n",
       "      <td>Opinion Leaders| Investors| Policy Makers| C&amp;I...</td>\n",
       "      <td>Sensory Video</td>\n",
       "      <td>MobileOptimizedWeb</td>\n",
       "      <td>iOS</td>\n",
       "      <td>Mobile</td>\n",
       "      <td>Apple</td>\n",
       "      <td>www.the-sun.com</td>\n",
       "      <td>Unknown</td>\n",
       "      <td>Mobile Safari UI/WKWebView</td>\n",
       "    </tr>\n",
       "    <tr>\n",
       "      <th>4</th>\n",
       "      <td>Unknown</td>\n",
       "      <td>Sports</td>\n",
       "      <td>Opinion Leaders| Investors| Policy Makers| C&amp;I...</td>\n",
       "      <td>Sensory Video</td>\n",
       "      <td>MobileOptimizedWeb</td>\n",
       "      <td>Android</td>\n",
       "      <td>Mobile</td>\n",
       "      <td>Samsung</td>\n",
       "      <td>currently.att.yahoo.com</td>\n",
       "      <td>Unknown</td>\n",
       "      <td>Chrome Mobile</td>\n",
       "    </tr>\n",
       "  </tbody>\n",
       "</table>\n",
       "</div>"
      ],
      "text/plain": [
       "  geo_targeting vertical                                          targeting  \\\n",
       "0       Unknown   Sports  Opinion Leaders| Investors| Policy Makers| C&I...   \n",
       "1       Unknown   Sports  Opinion Leaders| Investors| Policy Makers| C&I...   \n",
       "2       Unknown   Sports  Opinion Leaders| Investors| Policy Makers| C&I...   \n",
       "3       Unknown   Sports  Opinion Leaders| Investors| Policy Makers| C&I...   \n",
       "4       Unknown   Sports  Opinion Leaders| Investors| Policy Makers| C&I...   \n",
       "\n",
       "        creative    renderingcontext osfamily devicetype devicemake  \\\n",
       "0  Sensory Video  MobileOptimizedWeb  Android     Tablet    Samsung   \n",
       "1  Sensory Video  MobileOptimizedWeb      iOS     Mobile      Apple   \n",
       "2  Sensory Video  MobileOptimizedWeb  Android     Mobile    Samsung   \n",
       "3  Sensory Video  MobileOptimizedWeb      iOS     Mobile      Apple   \n",
       "4  Sensory Video  MobileOptimizedWeb  Android     Mobile    Samsung   \n",
       "\n",
       "                 site_name matchedfoldposition                     browser  \n",
       "0            www.yahoo.com             Unknown                      Chrome  \n",
       "1            www.yahoo.com             Unknown               Mobile Safari  \n",
       "2            www.yahoo.com             Unknown                      Chrome  \n",
       "3          www.the-sun.com             Unknown  Mobile Safari UI/WKWebView  \n",
       "4  currently.att.yahoo.com             Unknown               Chrome Mobile  "
      ]
     },
     "execution_count": 59,
     "metadata": {},
     "output_type": "execute_result"
    }
   ],
   "source": [
    "# X = X.drop(columns=[\"adformat\"])\n",
    "X.head()"
   ]
  }
 ],
 "metadata": {
  "kernelspec": {
   "display_name": "week10",
   "language": "python",
   "name": "python3"
  },
  "language_info": {
   "codemirror_mode": {
    "name": "ipython",
    "version": 3
   },
   "file_extension": ".py",
   "mimetype": "text/x-python",
   "name": "python",
   "nbconvert_exporter": "python",
   "pygments_lexer": "ipython3",
   "version": "3.8.2"
  }
 },
 "nbformat": 4,
 "nbformat_minor": 2
}
